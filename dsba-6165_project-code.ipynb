{
  "cells": [
    {
      "attachments": {},
      "cell_type": "markdown",
      "metadata": {
        "id": "b7RQrV0XFuxy"
      },
      "source": [
        "# **Image Classification Project**\n",
        "\n",
        "#### Group 3: Joshua Peterson, Michael Gray and Mangala Desai\n",
        "\n",
        "\n",
        "---\n",
        "\n"
      ]
    },
    {
      "attachments": {},
      "cell_type": "markdown",
      "metadata": {
        "id": "ZF7IJrr6gx_D"
      },
      "source": [
        "### Project Initialization & Packages"
      ]
    },
    {
      "cell_type": "code",
      "execution_count": null,
      "metadata": {
        "id": "TTJ6wQkzhTrz"
      },
      "outputs": [],
      "source": [
        "import os\n",
        "\n",
        "os.environ['PYTHONHASHSEED']=str(1) #to get reproducible results we have to set this seed before importing tf\n",
        "\n",
        "def reset_random_seeds():\n",
        "   os.environ['PYTHONHASHSEED']=str(1)\n",
        "   tf.random.set_seed(1)\n",
        "   np.random.seed(1)\n",
        "   random.seed(1)"
      ]
    },
    {
      "cell_type": "code",
      "execution_count": null,
      "metadata": {
        "colab": {
          "base_uri": "https://localhost:8080/"
        },
        "id": "dvO-NuAFDLBV",
        "outputId": "4d11a5b6-3a0d-49f7-8868-f1b970d219c8"
      },
      "outputs": [],
      "source": [
        "# Install packages that are needed for this notebook\n",
        "\n",
        "!pip install importlib_metadata\n",
        "!pip install image-quality"
      ]
    },
    {
      "attachments": {},
      "cell_type": "markdown",
      "metadata": {
        "id": "FqSSQI867iJA"
      },
      "source": [
        "The following are all the packages needed for this project."
      ]
    },
    {
      "cell_type": "code",
      "execution_count": null,
      "metadata": {
        "id": "p1RBAJ7kfHkj"
      },
      "outputs": [],
      "source": [
        "import zipfile\n",
        "import json\n",
        "import ast\n",
        "import cv2\n",
        "import shutil\n",
        "import pathlib\n",
        "import random\n",
        "import warnings\n",
        "import tensorflow as tf\n",
        "import pandas as pd\n",
        "import numpy as np\n",
        "import seaborn as sns\n",
        "import matplotlib.pyplot as plt\n",
        "import imquality.brisque as brisque\n",
        "from matplotlib import rcParams\n",
        "from matplotlib import image\n",
        "from importlib_metadata import metadata\n",
        "from skimage import draw, io, img_as_float\n",
        "from sklearn.metrics import classification_report\n",
        "from tensorflow import keras\n",
        "from keras import layers\n",
        "from keras.utils import load_img, image_dataset_from_directory, img_to_array\n",
        "from PIL import Image\n",
        "from os.path import isfile, join\n",
        "from random import shuffle\n",
        "from sklearn.utils import shuffle\n",
        "from scipy.stats import ttest_ind\n",
        "from os import listdir"
      ]
    },
    {
      "attachments": {},
      "cell_type": "markdown",
      "metadata": {
        "id": "V8kwe9lhh4WB"
      },
      "source": [
        "### Import Dataset to Google Colab"
      ]
    },
    {
      "cell_type": "code",
      "execution_count": null,
      "metadata": {
        "colab": {
          "base_uri": "https://localhost:8080/"
        },
        "id": "p1AQtYgYFnIk",
        "outputId": "5a6c1912-5762-4042-8a5d-31935d31d519"
      },
      "outputs": [
        {
          "name": "stdout",
          "output_type": "stream",
          "text": [
            "Mounted at /content/gdrive/\n"
          ]
        }
      ],
      "source": [
        "# For use if working from Google Drive\n",
        "\n",
        "from google.colab import drive\n",
        "\n",
        "drive.mount('/content/gdrive/')\n",
        "\n",
        "gdrive_dir = \"/content/gdrive/MyDrive/DSBA 6165/Group Project Work/\" # This directory reference will need to be updated to wherever the covid-19-chest-x-ray-dataset.zip file is located\n",
        "\n",
        "if not os.path.exists(gdrive_dir + \"covid-19-chest-x-ray-dataset\"):\n",
        "  os.makedirs(gdrive_dir + \"covid-19-chest-x-ray-dataset\")"
      ]
    },
    {
      "cell_type": "code",
      "execution_count": null,
      "metadata": {
        "id": "DCWRqnsafSFD"
      },
      "outputs": [],
      "source": [
        "zip_ref = zipfile.ZipFile(gdrive_dir + 'covid-19-chest-x-ray-dataset.zip', 'r') # Access the zip file containing the dataset\n",
        "zip_ref.extractall(gdrive_dir) # Extract dataset from the zip file\n",
        "zip_ref.close()"
      ]
    },
    {
      "cell_type": "code",
      "execution_count": null,
      "metadata": {
        "id": "SzE-Q2qJGhEi"
      },
      "outputs": [],
      "source": [
        "# For use if uploading dataset from local storage\n",
        "\n",
        "# from google.colab import files\n",
        "\n",
        "# upload = files.upload()"
      ]
    },
    {
      "attachments": {},
      "cell_type": "markdown",
      "metadata": {
        "id": "N-6MUe3_iyNx"
      },
      "source": [
        "### Aggregate JSONs"
      ]
    },
    {
      "attachments": {},
      "cell_type": "markdown",
      "metadata": {
        "id": "rsshKjwf8cEQ"
      },
      "source": [
        "This code aggregates all the individual image JSONs into one JSON file. This will make the JSON information easier to access. **This code does not need to be run if you already have the final *all_jsons.json* file**"
      ]
    },
    {
      "cell_type": "code",
      "execution_count": null,
      "metadata": {
        "id": "tY3yFK1bgvif"
      },
      "outputs": [],
      "source": [
        "content_dir = '/content/'\n",
        "directory = gdrive_dir + 'covid-19-chest-x-ray-dataset/releases/all-images/annotations/'\n",
        "\n",
        "all_dicts = []\n",
        "\n",
        "for filename in os.listdir(directory): # THIS TAKES A FEW MINUTES ON A LOCAL COMPUTER AND ABOUT A MINUTE ON COLAB\n",
        "    filepath = directory+filename\n",
        "    with open(filepath, 'r') as j:\n",
        "        contents = json.loads(j.read())\n",
        "        all_dicts.append(contents)\n",
        "\n",
        "with open(gdrive_dir + 'covid-19-chest-x-ray-dataset/all_jsons.json', 'w') as fout:\n",
        "    json.dump(all_dicts, fout)"
      ]
    },
    {
      "attachments": {},
      "cell_type": "markdown",
      "metadata": {
        "id": "1HrLe8QhlZTi"
      },
      "source": [
        "### Removal of Unwanted Images"
      ]
    },
    {
      "attachments": {},
      "cell_type": "markdown",
      "metadata": {
        "id": "WdXE0CGy8iLZ"
      },
      "source": [
        "The following script identifies the images that we would like to exclude from the dataset. **This code does not need to be run if you already have the final *all_jsons.json* file**"
      ]
    },
    {
      "cell_type": "code",
      "execution_count": null,
      "metadata": {
        "id": "1s5CJVrg8TSt"
      },
      "outputs": [],
      "source": [
        "with open(gdrive_dir + 'covid-19-chest-x-ray-dataset/all_jsons.json', 'r') as j: # open the file\n",
        "    all_jsons = json.loads(j.read())\n",
        "\n",
        "badfiles = []\n",
        "for metadatarecord in all_jsons:\n",
        "    lungcounter = 0\n",
        "    for a in metadatarecord['annotations']: # loop through annotations list (contains at least 2 lungs, sometimes more stuff)\n",
        "        if a['name'] == 'Lung': # if the annotation object is for a Lung mask path:\n",
        "            lungcounter += 1\n",
        "        else: # if the annotation object is not a Lung mask path, ignore it\n",
        "            continue\n",
        "    if lungcounter != 2:\n",
        "        badfiles.append(metadatarecord['image']['filename'])\n",
        "\n",
        "with open(gdrive_dir + 'covid-19-chest-x-ray-dataset/badfiles.txt', 'w') as f:\n",
        "    f.write(str(badfiles))"
      ]
    },
    {
      "attachments": {},
      "cell_type": "markdown",
      "metadata": {
        "id": "0Wl4k6y6BvNG"
      },
      "source": [
        "The following creates an object of the classes within the dataset. **This does not need to be run if you already have the *class_df.pkl* file.**"
      ]
    },
    {
      "cell_type": "code",
      "execution_count": null,
      "metadata": {
        "id": "q31hiDvxBfMT"
      },
      "outputs": [],
      "source": [
        "filename = gdrive_dir + 'covid-19-chest-x-ray-dataset/all_jsons.json' # file created by running aggregate_jsons.py\n",
        "\n",
        "with open(filename, 'r') as j: # open the file\n",
        "    all_jsons = json.loads(j.read())\n",
        "\n",
        "class_list = ['filename','Bacterial Pneumonia','No Pneumonia (healthy)','Viral Pneumonia','COVID-19','NOS','Fungal Pneumonia','Undefined Pneumonia','Lipoid pneumonia'] \n",
        "# NOS is not a tag used by the dataset, but will be a column we use to tally not-otherwise-specified data\n",
        "# We've gone ahead and ordered the classes based on their prevalence in the dataset.\n",
        "# Also added a filename column\n",
        "\n",
        "zero_data = np.zeros(shape=(len(all_jsons),len(class_list)),dtype=int) # make a 2-d array of zeros\n",
        "class_df = pd.DataFrame(zero_data, columns=class_list) # pre-populate dataframe with zeros\n",
        "\n",
        "patient_counter = 0 # initialize patient_counter variable\n",
        "found_tag = False # initialize flag variable to trag whether we find a tag match\n",
        "\n",
        "for patient in all_jsons: # loop through each patient dict\n",
        "    found_tag = False # reset the found_tag flag with each new patient record\n",
        "    class_df.loc[patient_counter,'filename'] = patient['image']['filename']\n",
        "    for tag in patient['annotations']:\n",
        "        if tag['name'] in class_list: # check if tag name matches with our class list\n",
        "            class_df.loc[patient_counter,tag['name']] = 1 # put a 1 in the relevant column for that patient\n",
        "            found_tag = True # make the flag true so we don't put a mark in the NOS column\n",
        "\n",
        "    if found_tag == False: # if we didn't find any tag in the list, mark as NOS\n",
        "        class_df.loc[patient_counter,'NOS'] = 1\n",
        "\n",
        "    patient_counter+=1 #increment the counter\n",
        "\n",
        "# Since all COVID-19 cases are also tagged as Viral Pneumonia, we will 0 the Viral Pneumonia cell for those cases,\n",
        "# so that the Viral Pneumonia column corresponds to non-COVID Viral Pneumonia:\n",
        "class_df.loc[class_df['COVID-19']==1,'Viral Pneumonia'] = 0\n",
        "class_df.rename(columns={'Viral Pneumonia':'Non-COVID Viral Pneumonia'},inplace=True)\n",
        "\n",
        "class_df.to_pickle(gdrive_dir + 'covid-19-chest-x-ray-dataset/class_df.pkl') # save the dataframe as a pickle for easy re-loading"
      ]
    },
    {
      "attachments": {},
      "cell_type": "markdown",
      "metadata": {
        "id": "-y3zZIiF6koM"
      },
      "source": [
        "The following identifies the classes we would like to exclude from the dataset. **This code does not need to be run if you already have the *irrelevant_classes.txt* file.**"
      ]
    },
    {
      "cell_type": "code",
      "execution_count": null,
      "metadata": {
        "id": "kGwbQ_-wB-iP"
      },
      "outputs": [],
      "source": [
        "df = pd.read_pickle(gdrive_dir + 'covid-19-chest-x-ray-dataset/class_df.pkl')\n",
        "index_of_images_to_remove = (df['NOS']==1) | (df['Fungal Pneumonia']==1) | (df['Undefined Pneumonia']==1) | (df['Lipoid pneumonia']==1)\n",
        "irrelevant_classes = df.loc[index_of_images_to_remove,'filename'].tolist()\n",
        "\n",
        "with open(gdrive_dir + 'covid-19-chest-x-ray-dataset/irrelevant_classes.txt', 'w') as f:\n",
        "    f.write(str(irrelevant_classes))"
      ]
    },
    {
      "attachments": {},
      "cell_type": "markdown",
      "metadata": {
        "id": "yz7qV6y2ltDa"
      },
      "source": [
        "The following script removes xray images that are in non-standard orientations, as well as their corresponding JSON files. After running this script, the **Aggregate JSONs** section should be rerun to create an aggregated JSON that does not contain records with unwanted x-ray orientations."
      ]
    },
    {
      "cell_type": "code",
      "execution_count": null,
      "metadata": {
        "id": "b4oOKmc1lhjS"
      },
      "outputs": [],
      "source": [
        "with open(gdrive_dir + 'covid-19-chest-x-ray-dataset/badfiles.txt', 'r') as t: # open the file\n",
        "    badfiles = t.readlines()\n",
        "\n",
        "badfiles = ast.literal_eval(badfiles[0]) # convert list saved as string back to list\n",
        "\n",
        "image_dir = content_dir + 'covid-19-chest-x-ray-dataset/images/'\n",
        "json_dir = content_dir + 'covid-19-chest-x-ray-dataset/releases/all-images/annotations/'\n",
        "\n",
        "for file in badfiles:\n",
        "    record_number = file.split('.')[0] # get the record number by splitting from the . in the filename, since the images are of varying file types\n",
        "    if os.path.isfile(image_dir + file) == True: # check if file exists and then remove if it does\n",
        "        os.remove(image_dir + file)\n",
        "    else:\n",
        "        print('File ' + file + ' did not exist, moving on...')\n",
        "\n",
        "    if os.path.isfile(json_dir + record_number + '.json') == True:    # check if file exists and then remove if it does\n",
        "        os.remove(json_dir + record_number + '.json')\n",
        "    else:\n",
        "        print('File ' + record_number + '.json' + ' did not exist, moving on...')"
      ]
    },
    {
      "attachments": {},
      "cell_type": "markdown",
      "metadata": {
        "id": "ndps2P62CIsT"
      },
      "source": [
        "The following script removes unwanted classes from the dataset, as well as their corresponding JSON files. After running this script, you should re-run **Aggregate JSONs** to create an aggregated JSON that does not contain records with the unwanted classes.\n"
      ]
    },
    {
      "cell_type": "code",
      "execution_count": null,
      "metadata": {
        "colab": {
          "base_uri": "https://localhost:8080/"
        },
        "id": "Ig7TVIzJCHZG",
        "outputId": "99fe7241-a7b3-4bc2-d644-2b83d01efd52"
      },
      "outputs": [],
      "source": [
        "with open(gdrive_dir + 'covid-19-chest-x-ray-dataset/irrelevant_classes.txt', 'r') as t: # open the file\n",
        "    irrelevant_classes = t.readlines()\n",
        "\n",
        "irrelevant_classes = ast.literal_eval(irrelevant_classes[0]) # convert list saved as string back to list (sorry, probably should have saved the list differently)\n",
        "\n",
        "image_dir = content_dir + 'covid-19-chest-x-ray-dataset/images/'\n",
        "json_dir = content_dir + 'covid-19-chest-x-ray-dataset/releases/all-images/annotations/'\n",
        "\n",
        "for file in irrelevant_classes:\n",
        "    record_number = file.split('.')[0] # get the record number by splitting from the . in the filename, since the images are of varying file types\n",
        "    if os.path.isfile(image_dir+file) == True: # check if file exists and then remove if it does\n",
        "        os.remove(image_dir+file)\n",
        "    else:\n",
        "        print('File ' + file + ' did not exist, moving on...')\n",
        "\n",
        "    if os.path.isfile(json_dir+record_number+'.json') == True:    # check if file exists and then remove if it does\n",
        "        os.remove(json_dir+record_number+'.json')\n",
        "    else:\n",
        "        print('File ' + record_number+'.json' + ' did not exist, moving on...')\n"
      ]
    },
    {
      "attachments": {},
      "cell_type": "markdown",
      "metadata": {
        "id": "7TTj8GQgBubI"
      },
      "source": [
        "Once all unwanted image orientations and classes have been removed, the **Aggregate JSONs** section should be rerun to recompile the *all_jsons.json* file. "
      ]
    },
    {
      "attachments": {},
      "cell_type": "markdown",
      "metadata": {
        "id": "o586zo_rlA4-"
      },
      "source": [
        "### Create Masks for Images"
      ]
    },
    {
      "attachments": {},
      "cell_type": "markdown",
      "metadata": {
        "id": "kms1aamRAhpL"
      },
      "source": [
        "Create a directory to store the masks and masked images."
      ]
    },
    {
      "cell_type": "code",
      "execution_count": null,
      "metadata": {
        "id": "NRJ2_FPKk_00"
      },
      "outputs": [],
      "source": [
        "mask_img_path = gdrive_dir + 'covid-19-chest-x-ray-dataset/masked_images'\n",
        "mask_path = gdrive_dir + 'covid-19-chest-x-ray-dataset/masks'\n",
        "\n",
        "if not os.path.exists(mask_img_path):\n",
        "  os.makedirs(mask_img_path)\n",
        "\n",
        "if not os.path.exists(mask_path):\n",
        "  os.makedirs(mask_path)"
      ]
    },
    {
      "attachments": {},
      "cell_type": "markdown",
      "metadata": {
        "id": "4RZsOfgiFADn"
      },
      "source": [
        "Create the image masks.\n",
        "\n",
        "This code only needs to be run once to initially create the image masks. **If the image masks are already provided, then this code does not need to be run.** This could take around 4 hours to run."
      ]
    },
    {
      "cell_type": "code",
      "execution_count": null,
      "metadata": {
        "id": "BIDHem7KE_Gc"
      },
      "outputs": [],
      "source": [
        "with open(gdrive_dir + 'covid-19-chest-x-ray-dataset/all_jsons.json', 'r') as j: # open the file\n",
        "    all_jsons = json.loads(j.read())\n",
        "\n",
        "def get_imdims(metadatarecord):   # we need to know the width and the height of the image that we're getting mask coordinates for\n",
        "    img_width = metadatarecord['image']['width']\n",
        "    img_height = metadatarecord['image']['height']\n",
        "    return img_width, img_height\n",
        "\n",
        "def get_maskpath(metadatarecord):   # function to get x and y coordinate paths for lung mask annotations\n",
        "    lung1_x = [] # initialize lists to append x and y mask path coordinates to\n",
        "    lung1_y = []\n",
        "    lung2_x = []\n",
        "    lung2_y = []\n",
        "    lungcounter = 0\n",
        "    for a in metadatarecord['annotations']: # loop through annotations list (contains at least 2 lungs, sometimes more stuff)\n",
        "        if a['name'] == 'Lung': # if the annotation object is for a Lung mask path:\n",
        "            lungcounter += 1\n",
        "            if lungcounter == 1:\n",
        "                for xy in a['polygon']['path']: # polygon.path contains a list of dictionaries which contain single x and y values\n",
        "                    lung1_x.append(xy['x']) # append x values to list\n",
        "                    lung1_y.append(xy['y']) # append y values to list\n",
        "            elif lungcounter == 2:\n",
        "                for xy in a['polygon']['path']: # polygon.path contains a list of dictionaries which contain single x and y values\n",
        "                    lung2_x.append(xy['x']) # append x values to list\n",
        "                    lung2_y.append(xy['y']) # append y values to list\n",
        "        else: # if the annotation object is not a Lung mask path, ignore it\n",
        "            continue\n",
        "\n",
        "    return lung1_x, lung1_y, lung2_x, lung2_y  #return the x and y coordinate lists for each lung separately\n",
        "\n",
        "def create_mask(img_height, img_width, y_coords, x_coords):  # function to create masks for each lung: a 2d array where True = lung and False = not lung \n",
        "    mask = draw.polygon2mask(\n",
        "        (img_height, img_width),\n",
        "        np.stack((y_coords, x_coords), axis=1)\n",
        "    )\n",
        "    return mask\n",
        "\n",
        "output_dir = gdrive_dir + 'covid-19-chest-x-ray-dataset/masks/' # directory for saving mask files\n",
        "\n",
        "for record in all_jsons: # loop through each patient record in the all_jsons file we made (these are metadata records)\n",
        "    if not os.path.exists(output_dir + record['image']['filename'].split('.')[0]+'_mask.png'):\n",
        "        img_width, img_height = get_imdims(record)\n",
        "        lung1_x, lung1_y, lung2_x, lung2_y = get_maskpath(record)\n",
        "        lung1 = create_mask(img_height, img_width, lung1_y, lung1_x)\n",
        "        lung2 = create_mask(img_height, img_width, lung2_y, lung2_x)\n",
        "\n",
        "        lungs_mask = lung1 | lung2 # combining the binary (True/False) masks using the or operator\n",
        "\n",
        "        # fig, ax = plt.subplots(1, 1)   # can use this in debugging to look at a mask but don't uncomment this when looping through all records\n",
        "        # ax.imshow(lungs_mask, interpolation='nearest', cmap='gray')\n",
        "        # plt.show()\n",
        "        outfile = record['image']['filename'].split('.')[0]+'_mask.png'\n",
        "        cv2.imwrite(output_dir+outfile, lungs_mask*255) # converts the boolean array implicitly to integer; 0 for false and 1 for true and multiplies by 255 to make it a bit-mask before writing to file"
      ]
    },
    {
      "attachments": {},
      "cell_type": "markdown",
      "metadata": {
        "id": "YkHRSCMxpFYF"
      },
      "source": [
        "Sample of image mask."
      ]
    },
    {
      "cell_type": "code",
      "execution_count": null,
      "metadata": {
        "colab": {
          "base_uri": "https://localhost:8080/",
          "height": 269
        },
        "id": "OjTfqO1JpD4x",
        "outputId": "42fe7041-d896-4728-b3bf-29850f48cabd"
      },
      "outputs": [
        {
          "data": {
            "image/png": "[encoded data removed]",
            "text/plain": [
              "<Figure size 432x288 with 1 Axes>"
            ]
          },
          "metadata": {},
          "output_type": "display_data"
        }
      ],
      "source": [
        "im = image.imread(gdrive_dir + \"covid-19-chest-x-ray-dataset/masks/00000265_mask.png\")\n",
        "plt.imshow(im)\n",
        "plt.show()"
      ]
    },
    {
      "attachments": {},
      "cell_type": "markdown",
      "metadata": {
        "id": "xd9fCsUg8QU6"
      },
      "source": [
        "Create masked images. This code only needs to be run once to create the masked images. **If the masked images are already provided, this code does not need to be run.** This could take up to 50 mins to run."
      ]
    },
    {
      "cell_type": "code",
      "execution_count": null,
      "metadata": {
        "id": "aMy7WCgs77k6"
      },
      "outputs": [],
      "source": [
        "with open(gdrive_dir + 'covid-19-chest-x-ray-dataset/all_jsons.json', 'r') as j: # open the file\n",
        "    all_jsons = json.loads(j.read())\n",
        "\n",
        "content_dir = '/content/'\n",
        "\n",
        "mask_dir = gdrive_dir + 'covid-19-chest-x-ray-dataset/masks/'\n",
        "image_dir = gdrive_dir + 'covid-19-chest-x-ray-dataset/images/'\n",
        "masked_image_dir = gdrive_dir + 'covid-19-chest-x-ray-dataset/masked_images/'\n",
        "\n",
        "for record in all_jsons:\n",
        "    record_number = record['image']['filename'].split('.')[0]\n",
        "    mask_path = mask_dir+record_number+'_mask.png'\n",
        "    image_path = image_dir+record['image']['filename']\n",
        "    masked_image_path = masked_image_dir+record_number+'_masked_image.png'\n",
        "    if os.path.isfile(image_path)==True: # if the image is found in the specified directory the mask png is applied to the image using a bitwise AND operation \n",
        "        image = cv2.imread(image_path) # reads the image\n",
        "        mask = cv2.imread(mask_path) # reads the mask image\n",
        "        masked_image = cv2.bitwise_and(image, mask) # applies the mask to the image\n",
        "        cv2.imwrite(masked_image_path,masked_image)\n",
        "    else:\n",
        "        print('File ' + image_path + ' did not exist, moving on...')"
      ]
    },
    {
      "attachments": {},
      "cell_type": "markdown",
      "metadata": {
        "id": "h-7aUoatu3CY"
      },
      "source": [
        "Sample of image with mask applied. "
      ]
    },
    {
      "cell_type": "code",
      "execution_count": null,
      "metadata": {
        "colab": {
          "base_uri": "https://localhost:8080/",
          "height": 269
        },
        "id": "W3l_oFmJu9SH",
        "outputId": "b0957dd6-cf08-4b85-fe57-4ebcfe1842dc"
      },
      "outputs": [
        {
          "data": {
            "image/png": "[encoded data removed]",
            "text/plain": [
              "<Figure size 432x288 with 1 Axes>"
            ]
          },
          "metadata": {},
          "output_type": "display_data"
        }
      ],
      "source": [
        "im_masked = image.imread(gdrive_dir + \"covid-19-chest-x-ray-dataset/masked_images/00000265_masked_image.png\")\n",
        "plt.imshow(im_masked)\n",
        "plt.show()"
      ]
    },
    {
      "cell_type": "code",
      "execution_count": null,
      "metadata": {
        "colab": {
          "base_uri": "https://localhost:8080/"
        },
        "id": "NB8L8HYzUKo6",
        "outputId": "ef04c1d0-e959-40f9-d9a5-98ab28b8f134"
      },
      "outputs": [
        {
          "name": "stdout",
          "output_type": "stream",
          "text": [
            "6287 6293\n"
          ]
        }
      ],
      "source": [
        "lst_masks = os.listdir(gdrive_dir + 'covid-19-chest-x-ray-dataset/masks/') # the directory path\n",
        "lst_masked_img = os.listdir(gdrive_dir + 'covid-19-chest-x-ray-dataset/masked_images/') # the directory path\n",
        "\n",
        "len_masks = len(lst_masks)\n",
        "len_masked_images = len(lst_masked_img)\n",
        "print(len_masks, len_masked_images)"
      ]
    },
    {
      "attachments": {},
      "cell_type": "markdown",
      "metadata": {
        "id": "hUejoEH_9Ymi"
      },
      "source": [
        "### Image Preprocessing"
      ]
    },
    {
      "attachments": {},
      "cell_type": "markdown",
      "metadata": {
        "id": "eT3Kku4T3Say"
      },
      "source": [
        "Resize masked images. This takes about 15 minutes to run. **This code does not need to be run if the masked images are already resized to 200 x 200.**"
      ]
    },
    {
      "cell_type": "code",
      "execution_count": null,
      "metadata": {
        "colab": {
          "base_uri": "https://localhost:8080/"
        },
        "id": "2k9okfNo27i0",
        "outputId": "a331769a-f740-44d7-ea67-5612e6d2beff"
      },
      "outputs": [],
      "source": [
        "path = gdrive_dir + \"covid-19-chest-x-ray-dataset/masked_images/\"\n",
        "\n",
        "im_size = 200 # set the length and width of image\n",
        "\n",
        "for file in os.listdir(path):\n",
        "    f_img = path + file\n",
        "    if os.path.isfile(f_img)==True:\n",
        "        img = Image.open(f_img) # open image from masked image directory\n",
        "        img = img.resize((im_size, im_size)) # resize image to the dimensions specified\n",
        "        img.save(f_img) # save resized image\n",
        "    else:\n",
        "        print(file, \"did not exist. Moving on...\")"
      ]
    },
    {
      "attachments": {},
      "cell_type": "markdown",
      "metadata": {
        "id": "VXQA4ysQZX1o"
      },
      "source": [
        "Create Brisque score for each image. **This code does not need to be run if you already have the *brisque_scores.csv* file.** This takes up to about 50 minutes to run depending on the size of the images."
      ]
    },
    {
      "cell_type": "code",
      "execution_count": null,
      "metadata": {
        "id": "cSbVkQx-6i-t"
      },
      "outputs": [],
      "source": [
        "warnings.filterwarnings(\"ignore\", category=FutureWarning) # ignores future warnings that are not needed\n",
        "\n",
        "path = gdrive_dir + \"covid-19-chest-x-ray-dataset/masked_images/\"\n",
        "\n",
        "brisque_scores = [] # initiating an empty list to store brisque scores for each image\n",
        "\n",
        "for file in os.listdir(path):\n",
        "    f_img = path + \"/\" + file\n",
        "    img = Image.open(f_img); # open image from masked image directory\n",
        "    b_score = brisque.score(img); # get the brisque score for that image\n",
        "    append_list = [file, b_score]\n",
        "    brisque_scores.append(append_list); # append file name and its brisque score to 'brisque_scores' list"
      ]
    },
    {
      "cell_type": "code",
      "execution_count": null,
      "metadata": {
        "id": "myj2tbt8kwBU"
      },
      "outputs": [],
      "source": [
        "brisque_df = pd.DataFrame(brisque_scores) # create pandas dataframe from brisque_scores list\n",
        "\n",
        "brisque_df.to_csv(gdrive_dir + 'covid-19-chest-x-ray-dataset/brisque_scores.csv', index=False, header=False) # save brisque_score information for later reference"
      ]
    },
    {
      "attachments": {},
      "cell_type": "markdown",
      "metadata": {
        "id": "LouYPII6_tPz"
      },
      "source": [
        "The following code reads in the calculated brisque score information. **Start here if you already have the *brisque_scores.csv* file.**"
      ]
    },
    {
      "cell_type": "code",
      "execution_count": null,
      "metadata": {
        "id": "6pVxhZecTQK6"
      },
      "outputs": [],
      "source": [
        "brisque_df = pd.read_csv(gdrive_dir + 'covid-19-chest-x-ray-dataset/brisque_scores.csv', header=None)"
      ]
    },
    {
      "cell_type": "code",
      "execution_count": null,
      "metadata": {
        "colab": {
          "base_uri": "https://localhost:8080/"
        },
        "id": "RbkxEF3r9-Jp",
        "outputId": "87454c56-b60b-4bdc-c15e-94be8d3e1feb"
      },
      "outputs": [
        {
          "data": {
            "text/plain": [
              "6287"
            ]
          },
          "execution_count": 9,
          "metadata": {},
          "output_type": "execute_result"
        }
      ],
      "source": [
        "len(brisque_df) # the number of x-rays with a calculated brisque score"
      ]
    },
    {
      "cell_type": "code",
      "execution_count": null,
      "metadata": {
        "colab": {
          "base_uri": "https://localhost:8080/",
          "height": 206
        },
        "id": "3F_PxxPgJHiU",
        "outputId": "e68d0f72-0370-4387-f321-0555091f4ea2"
      },
      "outputs": [
        {
          "data": {
            "text/html": [
              "\n",
              "  <div id=\"df-bdbfad4e-1053-42a1-9a34-68195154b954\">\n",
              "    <div class=\"colab-df-container\">\n",
              "      <div>\n",
              "<style scoped>\n",
              "    .dataframe tbody tr th:only-of-type {\n",
              "        vertical-align: middle;\n",
              "    }\n",
              "\n",
              "    .dataframe tbody tr th {\n",
              "        vertical-align: top;\n",
              "    }\n",
              "\n",
              "    .dataframe thead th {\n",
              "        text-align: right;\n",
              "    }\n",
              "</style>\n",
              "<table border=\"1\" class=\"dataframe\">\n",
              "  <thead>\n",
              "    <tr style=\"text-align: right;\">\n",
              "      <th></th>\n",
              "      <th>0</th>\n",
              "      <th>1</th>\n",
              "    </tr>\n",
              "  </thead>\n",
              "  <tbody>\n",
              "    <tr>\n",
              "      <th>0</th>\n",
              "      <td>00004615_masked_image.png</td>\n",
              "      <td>60.874041</td>\n",
              "    </tr>\n",
              "    <tr>\n",
              "      <th>1</th>\n",
              "      <td>00003568_masked_image.png</td>\n",
              "      <td>67.336177</td>\n",
              "    </tr>\n",
              "    <tr>\n",
              "      <th>2</th>\n",
              "      <td>00004282_masked_image.png</td>\n",
              "      <td>62.420700</td>\n",
              "    </tr>\n",
              "    <tr>\n",
              "      <th>3</th>\n",
              "      <td>00002865_masked_image.png</td>\n",
              "      <td>53.093490</td>\n",
              "    </tr>\n",
              "    <tr>\n",
              "      <th>4</th>\n",
              "      <td>00003779_masked_image.png</td>\n",
              "      <td>51.226945</td>\n",
              "    </tr>\n",
              "  </tbody>\n",
              "</table>\n",
              "</div>\n",
              "      <button class=\"colab-df-convert\" onclick=\"convertToInteractive('df-bdbfad4e-1053-42a1-9a34-68195154b954')\"\n",
              "              title=\"Convert this dataframe to an interactive table.\"\n",
              "              style=\"display:none;\">\n",
              "        \n",
              "  <svg xmlns=\"http://www.w3.org/2000/svg\" height=\"24px\"viewBox=\"0 0 24 24\"\n",
              "       width=\"24px\">\n",
              "    <path d=\"M0 0h24v24H0V0z\" fill=\"none\"/>\n",
              "    <path d=\"M18.56 5.44l.94 2.06.94-2.06 2.06-.94-2.06-.94-.94-2.06-.94 2.06-2.06.94zm-11 1L8.5 8.5l.94-2.06 2.06-.94-2.06-.94L8.5 2.5l-.94 2.06-2.06.94zm10 10l.94 2.06.94-2.06 2.06-.94-2.06-.94-.94-2.06-.94 2.06-2.06.94z\"/><path d=\"M17.41 7.96l-1.37-1.37c-.4-.4-.92-.59-1.43-.59-.52 0-1.04.2-1.43.59L10.3 9.45l-7.72 7.72c-.78.78-.78 2.05 0 2.83L4 21.41c.39.39.9.59 1.41.59.51 0 1.02-.2 1.41-.59l7.78-7.78 2.81-2.81c.8-.78.8-2.07 0-2.86zM5.41 20L4 18.59l7.72-7.72 1.47 1.35L5.41 20z\"/>\n",
              "  </svg>\n",
              "      </button>\n",
              "      \n",
              "  <style>\n",
              "    .colab-df-container {\n",
              "      display:flex;\n",
              "      flex-wrap:wrap;\n",
              "      gap: 12px;\n",
              "    }\n",
              "\n",
              "    .colab-df-convert {\n",
              "      background-color: #E8F0FE;\n",
              "      border: none;\n",
              "      border-radius: 50%;\n",
              "      cursor: pointer;\n",
              "      display: none;\n",
              "      fill: #1967D2;\n",
              "      height: 32px;\n",
              "      padding: 0 0 0 0;\n",
              "      width: 32px;\n",
              "    }\n",
              "\n",
              "    .colab-df-convert:hover {\n",
              "      background-color: #E2EBFA;\n",
              "      box-shadow: 0px 1px 2px rgba(60, 64, 67, 0.3), 0px 1px 3px 1px rgba(60, 64, 67, 0.15);\n",
              "      fill: #174EA6;\n",
              "    }\n",
              "\n",
              "    [theme=dark] .colab-df-convert {\n",
              "      background-color: #3B4455;\n",
              "      fill: #D2E3FC;\n",
              "    }\n",
              "\n",
              "    [theme=dark] .colab-df-convert:hover {\n",
              "      background-color: #434B5C;\n",
              "      box-shadow: 0px 1px 3px 1px rgba(0, 0, 0, 0.15);\n",
              "      filter: drop-shadow(0px 1px 2px rgba(0, 0, 0, 0.3));\n",
              "      fill: #FFFFFF;\n",
              "    }\n",
              "  </style>\n",
              "\n",
              "      <script>\n",
              "        const buttonEl =\n",
              "          document.querySelector('#df-bdbfad4e-1053-42a1-9a34-68195154b954 button.colab-df-convert');\n",
              "        buttonEl.style.display =\n",
              "          google.colab.kernel.accessAllowed ? 'block' : 'none';\n",
              "\n",
              "        async function convertToInteractive(key) {\n",
              "          const element = document.querySelector('#df-bdbfad4e-1053-42a1-9a34-68195154b954');\n",
              "          const dataTable =\n",
              "            await google.colab.kernel.invokeFunction('convertToInteractive',\n",
              "                                                     [key], {});\n",
              "          if (!dataTable) return;\n",
              "\n",
              "          const docLinkHtml = 'Like what you see? Visit the ' +\n",
              "            '<a target=\"_blank\" href=https://colab.research.google.com/notebooks/data_table.ipynb>data table notebook</a>'\n",
              "            + ' to learn more about interactive tables.';\n",
              "          element.innerHTML = '';\n",
              "          dataTable['output_type'] = 'display_data';\n",
              "          await google.colab.output.renderOutput(dataTable, element);\n",
              "          const docLink = document.createElement('div');\n",
              "          docLink.innerHTML = docLinkHtml;\n",
              "          element.appendChild(docLink);\n",
              "        }\n",
              "      </script>\n",
              "    </div>\n",
              "  </div>\n",
              "  "
            ],
            "text/plain": [
              "                           0          1\n",
              "0  00004615_masked_image.png  60.874041\n",
              "1  00003568_masked_image.png  67.336177\n",
              "2  00004282_masked_image.png  62.420700\n",
              "3  00002865_masked_image.png  53.093490\n",
              "4  00003779_masked_image.png  51.226945"
            ]
          },
          "execution_count": 10,
          "metadata": {},
          "output_type": "execute_result"
        }
      ],
      "source": [
        "brisque_df[:5] # a sample of 5 images and their brisque scores"
      ]
    },
    {
      "cell_type": "code",
      "execution_count": null,
      "metadata": {
        "colab": {
          "base_uri": "https://localhost:8080/"
        },
        "id": "vy1vi7G5lSRK",
        "outputId": "5e6ae3b6-dddd-4b36-c5f6-df217f7b9e25"
      },
      "outputs": [
        {
          "data": {
            "text/plain": [
              "count    6287.000000\n",
              "mean       57.041417\n",
              "std         7.914208\n",
              "min        22.582087\n",
              "25%        51.745770\n",
              "50%        56.985548\n",
              "75%        62.430678\n",
              "max        95.258123\n",
              "Name: 1, dtype: float64"
            ]
          },
          "execution_count": 11,
          "metadata": {},
          "output_type": "execute_result"
        }
      ],
      "source": [
        "brisque_df[1].describe()"
      ]
    },
    {
      "cell_type": "code",
      "execution_count": null,
      "metadata": {
        "colab": {
          "base_uri": "https://localhost:8080/",
          "height": 277
        },
        "id": "Y48LM2agl29U",
        "outputId": "d74d38c3-202b-4936-c21d-fdbf648e3e01"
      },
      "outputs": [
        {
          "data": {
            "image/png": "[encoded data removed]",
            "text/plain": [
              "<Figure size 432x288 with 1 Axes>"
            ]
          },
          "metadata": {},
          "output_type": "display_data"
        }
      ],
      "source": [
        "plt.style.use('seaborn-whitegrid')\n",
        "plt.title(\"Histogram of Brisque Scores\")\n",
        "brisque_df[1].hist()\n",
        "plt.show()"
      ]
    },
    {
      "attachments": {},
      "cell_type": "markdown",
      "metadata": {
        "id": "U_4mFaJXe0u-"
      },
      "source": [
        "Identifying the poor quality images"
      ]
    },
    {
      "cell_type": "code",
      "execution_count": null,
      "metadata": {
        "colab": {
          "base_uri": "https://localhost:8080/",
          "height": 424
        },
        "id": "9fewktPue0MJ",
        "outputId": "52eb5e7e-8b5d-48c7-e459-76042900559e"
      },
      "outputs": [
        {
          "data": {
            "text/html": [
              "\n",
              "  <div id=\"df-1787650e-6a13-44ec-8b5c-25178ef4db32\">\n",
              "    <div class=\"colab-df-container\">\n",
              "      <div>\n",
              "<style scoped>\n",
              "    .dataframe tbody tr th:only-of-type {\n",
              "        vertical-align: middle;\n",
              "    }\n",
              "\n",
              "    .dataframe tbody tr th {\n",
              "        vertical-align: top;\n",
              "    }\n",
              "\n",
              "    .dataframe thead th {\n",
              "        text-align: right;\n",
              "    }\n",
              "</style>\n",
              "<table border=\"1\" class=\"dataframe\">\n",
              "  <thead>\n",
              "    <tr style=\"text-align: right;\">\n",
              "      <th></th>\n",
              "      <th>0</th>\n",
              "      <th>1</th>\n",
              "    </tr>\n",
              "  </thead>\n",
              "  <tbody>\n",
              "    <tr>\n",
              "      <th>52</th>\n",
              "      <td>00006863_masked_image.png</td>\n",
              "      <td>76.749493</td>\n",
              "    </tr>\n",
              "    <tr>\n",
              "      <th>84</th>\n",
              "      <td>00002233_masked_image.png</td>\n",
              "      <td>74.403387</td>\n",
              "    </tr>\n",
              "    <tr>\n",
              "      <th>95</th>\n",
              "      <td>00003732_masked_image.png</td>\n",
              "      <td>70.320255</td>\n",
              "    </tr>\n",
              "    <tr>\n",
              "      <th>110</th>\n",
              "      <td>00005328_masked_image.png</td>\n",
              "      <td>70.480570</td>\n",
              "    </tr>\n",
              "    <tr>\n",
              "      <th>156</th>\n",
              "      <td>00004110_masked_image.png</td>\n",
              "      <td>70.300608</td>\n",
              "    </tr>\n",
              "    <tr>\n",
              "      <th>...</th>\n",
              "      <td>...</td>\n",
              "      <td>...</td>\n",
              "    </tr>\n",
              "    <tr>\n",
              "      <th>6203</th>\n",
              "      <td>00004054_masked_image.png</td>\n",
              "      <td>71.602131</td>\n",
              "    </tr>\n",
              "    <tr>\n",
              "      <th>6223</th>\n",
              "      <td>00006866_masked_image.png</td>\n",
              "      <td>95.258123</td>\n",
              "    </tr>\n",
              "    <tr>\n",
              "      <th>6247</th>\n",
              "      <td>00001607_masked_image.png</td>\n",
              "      <td>71.728161</td>\n",
              "    </tr>\n",
              "    <tr>\n",
              "      <th>6280</th>\n",
              "      <td>00000828_masked_image.png</td>\n",
              "      <td>73.296855</td>\n",
              "    </tr>\n",
              "    <tr>\n",
              "      <th>6286</th>\n",
              "      <td>00003309_masked_image.png</td>\n",
              "      <td>74.824706</td>\n",
              "    </tr>\n",
              "  </tbody>\n",
              "</table>\n",
              "<p>314 rows × 2 columns</p>\n",
              "</div>\n",
              "      <button class=\"colab-df-convert\" onclick=\"convertToInteractive('df-1787650e-6a13-44ec-8b5c-25178ef4db32')\"\n",
              "              title=\"Convert this dataframe to an interactive table.\"\n",
              "              style=\"display:none;\">\n",
              "        \n",
              "  <svg xmlns=\"http://www.w3.org/2000/svg\" height=\"24px\"viewBox=\"0 0 24 24\"\n",
              "       width=\"24px\">\n",
              "    <path d=\"M0 0h24v24H0V0z\" fill=\"none\"/>\n",
              "    <path d=\"M18.56 5.44l.94 2.06.94-2.06 2.06-.94-2.06-.94-.94-2.06-.94 2.06-2.06.94zm-11 1L8.5 8.5l.94-2.06 2.06-.94-2.06-.94L8.5 2.5l-.94 2.06-2.06.94zm10 10l.94 2.06.94-2.06 2.06-.94-2.06-.94-.94-2.06-.94 2.06-2.06.94z\"/><path d=\"M17.41 7.96l-1.37-1.37c-.4-.4-.92-.59-1.43-.59-.52 0-1.04.2-1.43.59L10.3 9.45l-7.72 7.72c-.78.78-.78 2.05 0 2.83L4 21.41c.39.39.9.59 1.41.59.51 0 1.02-.2 1.41-.59l7.78-7.78 2.81-2.81c.8-.78.8-2.07 0-2.86zM5.41 20L4 18.59l7.72-7.72 1.47 1.35L5.41 20z\"/>\n",
              "  </svg>\n",
              "      </button>\n",
              "      \n",
              "  <style>\n",
              "    .colab-df-container {\n",
              "      display:flex;\n",
              "      flex-wrap:wrap;\n",
              "      gap: 12px;\n",
              "    }\n",
              "\n",
              "    .colab-df-convert {\n",
              "      background-color: #E8F0FE;\n",
              "      border: none;\n",
              "      border-radius: 50%;\n",
              "      cursor: pointer;\n",
              "      display: none;\n",
              "      fill: #1967D2;\n",
              "      height: 32px;\n",
              "      padding: 0 0 0 0;\n",
              "      width: 32px;\n",
              "    }\n",
              "\n",
              "    .colab-df-convert:hover {\n",
              "      background-color: #E2EBFA;\n",
              "      box-shadow: 0px 1px 2px rgba(60, 64, 67, 0.3), 0px 1px 3px 1px rgba(60, 64, 67, 0.15);\n",
              "      fill: #174EA6;\n",
              "    }\n",
              "\n",
              "    [theme=dark] .colab-df-convert {\n",
              "      background-color: #3B4455;\n",
              "      fill: #D2E3FC;\n",
              "    }\n",
              "\n",
              "    [theme=dark] .colab-df-convert:hover {\n",
              "      background-color: #434B5C;\n",
              "      box-shadow: 0px 1px 3px 1px rgba(0, 0, 0, 0.15);\n",
              "      filter: drop-shadow(0px 1px 2px rgba(0, 0, 0, 0.3));\n",
              "      fill: #FFFFFF;\n",
              "    }\n",
              "  </style>\n",
              "\n",
              "      <script>\n",
              "        const buttonEl =\n",
              "          document.querySelector('#df-1787650e-6a13-44ec-8b5c-25178ef4db32 button.colab-df-convert');\n",
              "        buttonEl.style.display =\n",
              "          google.colab.kernel.accessAllowed ? 'block' : 'none';\n",
              "\n",
              "        async function convertToInteractive(key) {\n",
              "          const element = document.querySelector('#df-1787650e-6a13-44ec-8b5c-25178ef4db32');\n",
              "          const dataTable =\n",
              "            await google.colab.kernel.invokeFunction('convertToInteractive',\n",
              "                                                     [key], {});\n",
              "          if (!dataTable) return;\n",
              "\n",
              "          const docLinkHtml = 'Like what you see? Visit the ' +\n",
              "            '<a target=\"_blank\" href=https://colab.research.google.com/notebooks/data_table.ipynb>data table notebook</a>'\n",
              "            + ' to learn more about interactive tables.';\n",
              "          element.innerHTML = '';\n",
              "          dataTable['output_type'] = 'display_data';\n",
              "          await google.colab.output.renderOutput(dataTable, element);\n",
              "          const docLink = document.createElement('div');\n",
              "          docLink.innerHTML = docLinkHtml;\n",
              "          element.appendChild(docLink);\n",
              "        }\n",
              "      </script>\n",
              "    </div>\n",
              "  </div>\n",
              "  "
            ],
            "text/plain": [
              "                              0          1\n",
              "52    00006863_masked_image.png  76.749493\n",
              "84    00002233_masked_image.png  74.403387\n",
              "95    00003732_masked_image.png  70.320255\n",
              "110   00005328_masked_image.png  70.480570\n",
              "156   00004110_masked_image.png  70.300608\n",
              "...                         ...        ...\n",
              "6203  00004054_masked_image.png  71.602131\n",
              "6223  00006866_masked_image.png  95.258123\n",
              "6247  00001607_masked_image.png  71.728161\n",
              "6280  00000828_masked_image.png  73.296855\n",
              "6286  00003309_masked_image.png  74.824706\n",
              "\n",
              "[314 rows x 2 columns]"
            ]
          },
          "execution_count": 13,
          "metadata": {},
          "output_type": "execute_result"
        }
      ],
      "source": [
        "low_q_imgs = brisque_df.loc[brisque_df[1] >= 70] # identifies masked images with a brisque score greater than or equal to 70.\n",
        "low_q_imgs"
      ]
    },
    {
      "cell_type": "code",
      "execution_count": null,
      "metadata": {
        "colab": {
          "base_uri": "https://localhost:8080/"
        },
        "id": "xnfKpVqmgbGn",
        "outputId": "ad87f4fd-fed0-47ab-c024-62edf8f14acf"
      },
      "outputs": [
        {
          "data": {
            "text/plain": [
              "52      00006863_masked_image.png\n",
              "84      00002233_masked_image.png\n",
              "95      00003732_masked_image.png\n",
              "110     00005328_masked_image.png\n",
              "156     00004110_masked_image.png\n",
              "                  ...            \n",
              "6203    00004054_masked_image.png\n",
              "6223    00006866_masked_image.png\n",
              "6247    00001607_masked_image.png\n",
              "6280    00000828_masked_image.png\n",
              "6286    00003309_masked_image.png\n",
              "Name: 0, Length: 314, dtype: object"
            ]
          },
          "execution_count": 14,
          "metadata": {},
          "output_type": "execute_result"
        }
      ],
      "source": [
        "low_q_imgs[0]"
      ]
    },
    {
      "attachments": {},
      "cell_type": "markdown",
      "metadata": {
        "id": "pr9C8P-Fg6Ee"
      },
      "source": [
        "Removing low quality images from the dataset"
      ]
    },
    {
      "cell_type": "code",
      "execution_count": null,
      "metadata": {
        "id": "d4h09CQVgMQv"
      },
      "outputs": [],
      "source": [
        "image_dir = gdrive_dir + 'covid-19-chest-x-ray-dataset/masked_images/'\n",
        "unused_dir = gdrive_dir + 'covid-19-chest-x-ray-dataset/masked_images/unused'\n",
        "\n",
        "if not os.path.exists(unused_dir):\n",
        "  os.makedirs(unused_dir)\n",
        "\n",
        "for file in low_q_imgs[0]:\n",
        "    if os.path.isfile(image_dir+file) == True: # check if file exists and then remove if it does\n",
        "        shutil.move(image_dir+file, unused_dir+file)\n",
        "    else:\n",
        "        print(file + ' did not exist, moving on...')"
      ]
    },
    {
      "attachments": {},
      "cell_type": "markdown",
      "metadata": {
        "id": "3qkuUqxsKaj3"
      },
      "source": [
        "### Data Preparation"
      ]
    },
    {
      "attachments": {},
      "cell_type": "markdown",
      "metadata": {
        "id": "QBz_PRU9Ewv6"
      },
      "source": [
        "**This entire *Data Preparation* section of code does not need to be run if the masked images are already located in the *train* and *test* folders.**"
      ]
    },
    {
      "attachments": {},
      "cell_type": "markdown",
      "metadata": {
        "id": "fKrX_BH1xJZp"
      },
      "source": [
        "Creating the directories"
      ]
    },
    {
      "cell_type": "code",
      "execution_count": null,
      "metadata": {
        "id": "anBAiycJlJhA"
      },
      "outputs": [],
      "source": [
        "model_data_dir = gdrive_dir + 'covid-19-chest-x-ray-dataset/masked_images/'\n",
        "\n",
        "classes = ['bacterial','covid','healthy','viral']\n",
        "\n",
        "# create the train and test folders\n",
        "for label in classes:\n",
        "    if not os.path.exists(model_data_dir + 'train/' + label):\n",
        "      os.makedirs(model_data_dir + 'train/' + label)\n",
        "\n",
        "for label in classes:\n",
        "    if not os.path.exists(model_data_dir + 'test/' + label):\n",
        "      os.makedirs(model_data_dir + 'test/' + label)\n",
        "\n",
        "# create the class folders\n",
        "if not os.path.exists(model_data_dir + 'bacterial'):\n",
        "    os.makedirs(model_data_dir + 'bacterial')\n",
        "\n",
        "if not os.path.exists(model_data_dir + 'healthy'):\n",
        "    os.makedirs(model_data_dir + 'healthy')\n",
        "\n",
        "if not os.path.exists(model_data_dir + 'viral'):\n",
        "    os.makedirs(model_data_dir + 'viral')\n",
        "\n",
        "if not os.path.exists(model_data_dir + 'covid'):\n",
        "    os.makedirs(model_data_dir + 'covid')"
      ]
    },
    {
      "attachments": {},
      "cell_type": "markdown",
      "metadata": {
        "id": "gArJw_avxumo"
      },
      "source": [
        "Moving masked images to class folders"
      ]
    },
    {
      "cell_type": "code",
      "execution_count": null,
      "metadata": {
        "id": "5aiyxSBG7Iom"
      },
      "outputs": [],
      "source": [
        "class_df = pd.read_pickle(gdrive_dir + 'covid-19-chest-x-ray-dataset/class_df.pkl')\n",
        "class_df.drop(columns = ['NOS','Fungal Pneumonia','Undefined Pneumonia','Lipoid pneumonia'],inplace=True)\n",
        "class_df['No Pneumonia (healthy)'] = class_df['No Pneumonia (healthy)']*2\n",
        "class_df['Non-COVID Viral Pneumonia'] = class_df['Non-COVID Viral Pneumonia']*3\n",
        "class_df['COVID-19'] = class_df['COVID-19']*4\n",
        "class_df['class'] = class_df[['Bacterial Pneumonia','No Pneumonia (healthy)','Non-COVID Viral Pneumonia', 'COVID-19']].sum(axis=1)\n",
        "\n",
        "# get lists of image filenames for the different classes:\n",
        "bacterial = class_df['filename'][class_df['class']==1].tolist()\n",
        "healthy = class_df['filename'][class_df['class']==2].tolist()\n",
        "viral = class_df['filename'][class_df['class']==3].tolist()\n",
        "covid = class_df['filename'][class_df['class']==4].tolist()\n",
        "\n",
        "image_dir = gdrive_dir + 'covid-19-chest-x-ray-dataset/masked_images/'\n",
        "\n",
        "# move images to the appropriate class folders:\n",
        "for f in bacterial:\n",
        "    f = f.split('.')[0]+'_masked_image.png'\n",
        "    if os.path.isfile(image_dir+f) == True:    # check if file exists and then move to new dir if it does\n",
        "        shutil.move(image_dir+f, image_dir+'bacterial/'+f)\n",
        "    else:\n",
        "        print('File ' + f + ' did not exist, moving on...')\n",
        "\n",
        "for f in healthy:\n",
        "    f = f.split('.')[0]+'_masked_image.png'\n",
        "    if os.path.isfile(image_dir+f) == True:    # check if file exists and then move to new dir if it does\n",
        "        shutil.move(image_dir+f, image_dir+'healthy/'+f)\n",
        "    else:\n",
        "        print('File ' + f + ' did not exist, moving on...')\n",
        "\n",
        "for f in viral:\n",
        "    f = f.split('.')[0]+'_masked_image.png'\n",
        "    if os.path.isfile(image_dir+f) == True:    # check if file exists and then move to new dir if it does\n",
        "        shutil.move(image_dir+f, image_dir+'viral/'+f)\n",
        "    else:\n",
        "        print('File ' + f + ' did not exist, moving on...')\n",
        "\n",
        "for f in covid:\n",
        "    f = f.split('.')[0]+'_masked_image.png'\n",
        "    if os.path.isfile(image_dir+f) == True:    # check if file exists and then move to new dir if it does\n",
        "        shutil.move(image_dir+f, image_dir+'covid/'+f)\n",
        "    else:\n",
        "        print('File ' + f + ' did not exist, moving on...')"
      ]
    },
    {
      "attachments": {},
      "cell_type": "markdown",
      "metadata": {
        "id": "xE5u569EyQY-"
      },
      "source": [
        "Create train and test datasets"
      ]
    },
    {
      "cell_type": "code",
      "execution_count": null,
      "metadata": {
        "id": "gU_zi9lExyaK"
      },
      "outputs": [],
      "source": [
        "from sklearn.model_selection import train_test_split\n",
        "\n",
        "image_dir = gdrive_dir + 'covid-19-chest-x-ray-dataset/masked_images/'\n",
        "classes = ['bacterial','covid','healthy','viral']\n",
        "\n",
        "for label in classes:\n",
        "    dir = image_dir + label\n",
        "    file_list = os.listdir(dir)\n",
        "    shuffle(file_list)\n",
        "\n",
        "    train_files, test_files = train_test_split(file_list, test_size=0.3, random_state=1) # creating a train and test split of the masked images\n",
        "\n",
        "    for file in test_files:\n",
        "        shutil.move(dir+'/'+file, image_dir+'test/'+label+'/'+file)\n",
        "    \n",
        "    for file in train_files:\n",
        "        shutil.move(dir+'/'+file, image_dir+'train/'+label+'/'+file)"
      ]
    },
    {
      "attachments": {},
      "cell_type": "markdown",
      "metadata": {
        "id": "BUiuA9PPhgRa"
      },
      "source": [
        "### Building the Initial Models & Evaluation"
      ]
    },
    {
      "attachments": {},
      "cell_type": "markdown",
      "metadata": {
        "id": "aMw_3daQjgi1"
      },
      "source": [
        "Loads in and processes the data to make the train and test datasets. **This code needs to be run before running any of the models in the notebook**"
      ]
    },
    {
      "cell_type": "code",
      "execution_count": null,
      "metadata": {
        "colab": {
          "base_uri": "https://localhost:8080/"
        },
        "id": "wL-Xpp_IhjAC",
        "outputId": "a529b69b-ffcf-40de-9088-4ede86b57e54"
      },
      "outputs": [
        {
          "name": "stdout",
          "output_type": "stream",
          "text": [
            "Loading train\n",
            "Loading test\n"
          ]
        }
      ],
      "source": [
        "class_names = ['bacterial','healthy','viral','covid']\n",
        "class_names_label = {class_name:i for i,class_name in enumerate(class_names)}\n",
        "\n",
        "image_dir = gdrive_dir + 'covid-19-chest-x-ray-dataset/masked_images/'\n",
        "\n",
        "IMAGE_SIZE = (200,200)\n",
        "nb_classes = len(class_names)\n",
        "\n",
        "def load_data():\n",
        "    image_dir = gdrive_dir + 'covid-19-chest-x-ray-dataset/masked_images'\n",
        "    CATEGORY = ['train','test']\n",
        "\n",
        "    output = []\n",
        "\n",
        "    for category in CATEGORY:\n",
        "        path = os.path.join(image_dir,category)\n",
        "        images = []\n",
        "        labels = []\n",
        "\n",
        "        print('Loading {}'.format(category))\n",
        "\n",
        "        for folder in os.listdir(path):\n",
        "            label = class_names_label[folder]\n",
        "\n",
        "            for file in os.listdir(os.path.join(path, folder)):\n",
        "                img_path = os.path.join(os.path.join(path, folder), file)\n",
        "\n",
        "                image = cv2.imread(img_path)\n",
        "                image = cv2.resize(image, IMAGE_SIZE)\n",
        "\n",
        "                images.append(image)\n",
        "                labels.append(label)\n",
        "\n",
        "        labels = np.array(labels, dtype = 'int32')\n",
        "        images = np.array(images, dtype = 'float32')\n",
        "\n",
        "        output.append((images, labels))\n",
        "\n",
        "    return output\n",
        "\n",
        "(train_images, train_labels), (test_images, test_labels) = load_data()\n",
        "(train_images, train_labels) = shuffle(train_images, train_labels, random_state = 42)"
      ]
    },
    {
      "attachments": {},
      "cell_type": "markdown",
      "metadata": {
        "id": "9H7XBthtv-v6"
      },
      "source": [
        "Creating the model"
      ]
    },
    {
      "cell_type": "code",
      "execution_count": null,
      "metadata": {
        "id": "QCvntvnDjlIb"
      },
      "outputs": [],
      "source": [
        "reset_random_seeds()\n",
        "\n",
        "class_weight = {0: 1.00,\n",
        "                1: 1.75,\n",
        "                2: 1.94,\n",
        "                3: 6.40}\n",
        "\n",
        "model = tf.keras.Sequential([\n",
        "    layers.Rescaling(1./255),\n",
        "    layers.RandomRotation(0.1, fill_mode='constant',fill_value=0),\n",
        "    layers.RandomZoom(0.1),\n",
        "    layers.RandomTranslation(0.1,0.1,fill_mode='constant',fill_value=0),\n",
        "    layers.Conv2D(64, (3,3), activation = 'relu', input_shape = (200,200,3)),\n",
        "    layers.MaxPooling2D(2,2),\n",
        "    layers.Conv2D(64, (3,3), activation = 'relu'),\n",
        "    layers.MaxPooling2D(2,2),\n",
        "    layers.Conv2D(128, (3,3), activation = 'relu'),\n",
        "    layers.MaxPooling2D(2,2),\n",
        "    layers.Conv2D(128, (3,3), activation = 'relu'),\n",
        "    layers.MaxPooling2D(2,2),\n",
        "    layers.Conv2D(256, (3,3), activation = 'relu'),\n",
        "    layers.MaxPooling2D(2,2),\n",
        "    layers.Conv2D(256, (3,3), activation = 'relu'),\n",
        "    layers.MaxPooling2D(2,2),\n",
        "    layers.Flatten(),\n",
        "    layers.Dense(512, activation=tf.nn.relu),\n",
        "    layers.Dropout(0.2),\n",
        "    layers.Dense(nb_classes, activation=tf.nn.softmax)\n",
        "])\n",
        "\n",
        "model.compile(optimizer = 'adam', \n",
        "              loss = 'sparse_categorical_crossentropy', \n",
        "              metrics = ['accuracy'])\n"
      ]
    },
    {
      "attachments": {},
      "cell_type": "markdown",
      "metadata": {
        "id": "k7MdtdmmwDXH"
      },
      "source": [
        "Creating the callbacks and fitting the model"
      ]
    },
    {
      "cell_type": "code",
      "execution_count": null,
      "metadata": {
        "colab": {
          "base_uri": "https://localhost:8080/"
        },
        "id": "m6XOrLQ1p6YR",
        "outputId": "fff6d6df-d561-4d04-ad8a-7d5d60e58b36"
      },
      "outputs": [],
      "source": [
        "callbacks = [\n",
        "    keras.callbacks.ModelCheckpoint(\n",
        "        filepath='img_class_model.keras',\n",
        "        save_best_only=True,\n",
        "        monitor='val_loss'\n",
        "    )\n",
        "]\n",
        "\n",
        "history = model.fit(train_images, \n",
        "                    train_labels, \n",
        "                    batch_size=128, \n",
        "                    epochs=40, \n",
        "                    validation_split = 0.2,\n",
        "                    callbacks=callbacks) # Important to note the class_weights being specified here\n"
      ]
    },
    {
      "attachments": {},
      "cell_type": "markdown",
      "metadata": {
        "id": "LsoYSKvowMhR"
      },
      "source": [
        "Plotting the accuracy and loss of the developed model"
      ]
    },
    {
      "cell_type": "code",
      "execution_count": null,
      "metadata": {
        "colab": {
          "base_uri": "https://localhost:8080/",
          "height": 328
        },
        "id": "hqutjnCxnT51",
        "outputId": "ef59b64c-add4-4f1c-d6c4-11c9c63b448a"
      },
      "outputs": [
        {
          "data": {
            "image/png": "[encoded data removed]",
            "text/plain": [
              "<Figure size 1080x720 with 2 Axes>"
            ]
          },
          "metadata": {
            "needs_background": "light"
          },
          "output_type": "display_data"
        }
      ],
      "source": [
        "fig = plt.figure(figsize=(15,10))\n",
        "\n",
        "plt.style.use('seaborn-notebook')\n",
        "\n",
        "train_col = \"#005035\"\n",
        "val_col = \"#A49665\"\n",
        "\n",
        "#plot accuracy: \n",
        "plt.subplot(221)\n",
        "plt.plot(history.history['accuracy'],'bo-', label='acc', color=train_col)\n",
        "plt.plot(history.history['val_accuracy'],'ro--', label='val_acc', color=val_col)\n",
        "plt.title('train_acc vs val_acc')\n",
        "plt.ylabel('accuracy')\n",
        "plt.xlabel('epochs')\n",
        "plt.legend()\n",
        "\n",
        "#plot loss\n",
        "plt.subplot(222)\n",
        "plt.plot(history.history['loss'],'bo-', label='loss', color=train_col)\n",
        "plt.plot(history.history['val_loss'],'ro--', label='val_loss', color=val_col)\n",
        "plt.title('train_loss vs val_loss')\n",
        "plt.ylabel('loss')\n",
        "plt.xlabel('epochs')\n",
        "plt.legend()\n",
        "\n",
        "plt.show()"
      ]
    },
    {
      "attachments": {},
      "cell_type": "markdown",
      "metadata": {
        "id": "DSe0WTwqxqPM"
      },
      "source": [
        "Evaluating the model"
      ]
    },
    {
      "cell_type": "code",
      "execution_count": null,
      "metadata": {
        "colab": {
          "base_uri": "https://localhost:8080/"
        },
        "id": "Q4cjWISZxswp",
        "outputId": "4ef4b51f-b3c4-4801-edcc-6850b9080fce"
      },
      "outputs": [],
      "source": [
        "# Evaluating the model on the test dataset\n",
        "test_model = keras.models.load_model('img_class_model.keras')\n",
        "test_loss, test_acc = test_model.evaluate(test_images, test_labels)\n",
        "print(f\"Test accuracy: {test_acc:.3f}\")"
      ]
    },
    {
      "attachments": {},
      "cell_type": "markdown",
      "metadata": {
        "id": "7QvREhGQybqK"
      },
      "source": [
        "Making predictions and getting a classification report"
      ]
    },
    {
      "cell_type": "code",
      "execution_count": null,
      "metadata": {
        "colab": {
          "base_uri": "https://localhost:8080/"
        },
        "id": "Qmrr5vpFyddK",
        "outputId": "18e497ec-609b-4abe-df6f-957cd035906d"
      },
      "outputs": [
        {
          "name": "stdout",
          "output_type": "stream",
          "text": [
            "100/100 [==============================] - 3s 26ms/step\n",
            "              precision    recall  f1-score   support\n",
            "\n",
            "           0       0.86      0.66      0.75      1405\n",
            "           1       0.92      0.87      0.89       816\n",
            "           2       0.52      0.75      0.61       734\n",
            "           3       0.78      0.91      0.84       223\n",
            "\n",
            "    accuracy                           0.75      3178\n",
            "   macro avg       0.77      0.80      0.77      3178\n",
            "weighted avg       0.79      0.75      0.76      3178\n",
            "\n"
          ]
        }
      ],
      "source": [
        "predictions = test_model.predict(test_images)\n",
        "pred_labels = np.argmax(predictions, axis = 1)\n",
        "print(classification_report(test_labels, pred_labels))\n",
        "# 0 = bacterial, 1 = healthy, 2 = viral and 3 = covid"
      ]
    },
    {
      "attachments": {},
      "cell_type": "markdown",
      "metadata": {
        "id": "EbKGDOtrIV5-"
      },
      "source": [
        "Saving the best model"
      ]
    },
    {
      "cell_type": "code",
      "execution_count": null,
      "metadata": {
        "id": "Wk6NbGwaIVmN"
      },
      "outputs": [],
      "source": [
        "test_model.save(gdrive_dir + 'covid-19-chest-x-ray-dataset/final_model.h5')"
      ]
    },
    {
      "attachments": {},
      "cell_type": "markdown",
      "metadata": {
        "id": "NAbstTOphxNq"
      },
      "source": [
        "## Testing Pre-trained Models"
      ]
    },
    {
      "attachments": {},
      "cell_type": "markdown",
      "metadata": {
        "id": "MmsNBamwm00M"
      },
      "source": [
        "Testing various pre-trained models for our image classification task."
      ]
    },
    {
      "cell_type": "code",
      "execution_count": null,
      "metadata": {
        "colab": {
          "base_uri": "https://localhost:8080/"
        },
        "id": "uV3C8kNuh0_N",
        "outputId": "fce8bd65-6bf5-4160-8a89-8db4c3aeda7a"
      },
      "outputs": [
        {
          "name": "stdout",
          "output_type": "stream",
          "text": [
            "Model: \"resnet50\"\n",
            "__________________________________________________________________________________________________\n",
            " Layer (type)                   Output Shape         Param #     Connected to                     \n",
            "==================================================================================================\n",
            " input_16 (InputLayer)          [(None, None, None,  0           []                               \n",
            "                                 3)]                                                              \n",
            "                                                                                                  \n",
            " conv1_pad (ZeroPadding2D)      (None, None, None,   0           ['input_16[0][0]']               \n",
            "                                3)                                                                \n",
            "                                                                                                  \n",
            " conv1_conv (Conv2D)            (None, None, None,   9472        ['conv1_pad[0][0]']              \n",
            "                                64)                                                               \n",
            "                                                                                                  \n",
            " conv1_bn (BatchNormalization)  (None, None, None,   256         ['conv1_conv[0][0]']             \n",
            "                                64)                                                               \n",
            "                                                                                                  \n",
            " conv1_relu (Activation)        (None, None, None,   0           ['conv1_bn[0][0]']               \n",
            "                                64)                                                               \n",
            "                                                                                                  \n",
            " pool1_pad (ZeroPadding2D)      (None, None, None,   0           ['conv1_relu[0][0]']             \n",
            "                                64)                                                               \n",
            "                                                                                                  \n",
            " pool1_pool (MaxPooling2D)      (None, None, None,   0           ['pool1_pad[0][0]']              \n",
            "                                64)                                                               \n",
            "                                                                                                  \n",
            " conv2_block1_1_conv (Conv2D)   (None, None, None,   4160        ['pool1_pool[0][0]']             \n",
            "                                64)                                                               \n",
            "                                                                                                  \n",
            " conv2_block1_1_bn (BatchNormal  (None, None, None,   256        ['conv2_block1_1_conv[0][0]']    \n",
            " ization)                       64)                                                               \n",
            "                                                                                                  \n",
            " conv2_block1_1_relu (Activatio  (None, None, None,   0          ['conv2_block1_1_bn[0][0]']      \n",
            " n)                             64)                                                               \n",
            "                                                                                                  \n",
            " conv2_block1_2_conv (Conv2D)   (None, None, None,   36928       ['conv2_block1_1_relu[0][0]']    \n",
            "                                64)                                                               \n",
            "                                                                                                  \n",
            " conv2_block1_2_bn (BatchNormal  (None, None, None,   256        ['conv2_block1_2_conv[0][0]']    \n",
            " ization)                       64)                                                               \n",
            "                                                                                                  \n",
            " conv2_block1_2_relu (Activatio  (None, None, None,   0          ['conv2_block1_2_bn[0][0]']      \n",
            " n)                             64)                                                               \n",
            "                                                                                                  \n",
            " conv2_block1_0_conv (Conv2D)   (None, None, None,   16640       ['pool1_pool[0][0]']             \n",
            "                                256)                                                              \n",
            "                                                                                                  \n",
            " conv2_block1_3_conv (Conv2D)   (None, None, None,   16640       ['conv2_block1_2_relu[0][0]']    \n",
            "                                256)                                                              \n",
            "                                                                                                  \n",
            " conv2_block1_0_bn (BatchNormal  (None, None, None,   1024       ['conv2_block1_0_conv[0][0]']    \n",
            " ization)                       256)                                                              \n",
            "                                                                                                  \n",
            " conv2_block1_3_bn (BatchNormal  (None, None, None,   1024       ['conv2_block1_3_conv[0][0]']    \n",
            " ization)                       256)                                                              \n",
            "                                                                                                  \n",
            " conv2_block1_add (Add)         (None, None, None,   0           ['conv2_block1_0_bn[0][0]',      \n",
            "                                256)                              'conv2_block1_3_bn[0][0]']      \n",
            "                                                                                                  \n",
            " conv2_block1_out (Activation)  (None, None, None,   0           ['conv2_block1_add[0][0]']       \n",
            "                                256)                                                              \n",
            "                                                                                                  \n",
            " conv2_block2_1_conv (Conv2D)   (None, None, None,   16448       ['conv2_block1_out[0][0]']       \n",
            "                                64)                                                               \n",
            "                                                                                                  \n",
            " conv2_block2_1_bn (BatchNormal  (None, None, None,   256        ['conv2_block2_1_conv[0][0]']    \n",
            " ization)                       64)                                                               \n",
            "                                                                                                  \n",
            " conv2_block2_1_relu (Activatio  (None, None, None,   0          ['conv2_block2_1_bn[0][0]']      \n",
            " n)                             64)                                                               \n",
            "                                                                                                  \n",
            " conv2_block2_2_conv (Conv2D)   (None, None, None,   36928       ['conv2_block2_1_relu[0][0]']    \n",
            "                                64)                                                               \n",
            "                                                                                                  \n",
            " conv2_block2_2_bn (BatchNormal  (None, None, None,   256        ['conv2_block2_2_conv[0][0]']    \n",
            " ization)                       64)                                                               \n",
            "                                                                                                  \n",
            " conv2_block2_2_relu (Activatio  (None, None, None,   0          ['conv2_block2_2_bn[0][0]']      \n",
            " n)                             64)                                                               \n",
            "                                                                                                  \n",
            " conv2_block2_3_conv (Conv2D)   (None, None, None,   16640       ['conv2_block2_2_relu[0][0]']    \n",
            "                                256)                                                              \n",
            "                                                                                                  \n",
            " conv2_block2_3_bn (BatchNormal  (None, None, None,   1024       ['conv2_block2_3_conv[0][0]']    \n",
            " ization)                       256)                                                              \n",
            "                                                                                                  \n",
            " conv2_block2_add (Add)         (None, None, None,   0           ['conv2_block1_out[0][0]',       \n",
            "                                256)                              'conv2_block2_3_bn[0][0]']      \n",
            "                                                                                                  \n",
            " conv2_block2_out (Activation)  (None, None, None,   0           ['conv2_block2_add[0][0]']       \n",
            "                                256)                                                              \n",
            "                                                                                                  \n",
            " conv2_block3_1_conv (Conv2D)   (None, None, None,   16448       ['conv2_block2_out[0][0]']       \n",
            "                                64)                                                               \n",
            "                                                                                                  \n",
            " conv2_block3_1_bn (BatchNormal  (None, None, None,   256        ['conv2_block3_1_conv[0][0]']    \n",
            " ization)                       64)                                                               \n",
            "                                                                                                  \n",
            " conv2_block3_1_relu (Activatio  (None, None, None,   0          ['conv2_block3_1_bn[0][0]']      \n",
            " n)                             64)                                                               \n",
            "                                                                                                  \n",
            " conv2_block3_2_conv (Conv2D)   (None, None, None,   36928       ['conv2_block3_1_relu[0][0]']    \n",
            "                                64)                                                               \n",
            "                                                                                                  \n",
            " conv2_block3_2_bn (BatchNormal  (None, None, None,   256        ['conv2_block3_2_conv[0][0]']    \n",
            " ization)                       64)                                                               \n",
            "                                                                                                  \n",
            " conv2_block3_2_relu (Activatio  (None, None, None,   0          ['conv2_block3_2_bn[0][0]']      \n",
            " n)                             64)                                                               \n",
            "                                                                                                  \n",
            " conv2_block3_3_conv (Conv2D)   (None, None, None,   16640       ['conv2_block3_2_relu[0][0]']    \n",
            "                                256)                                                              \n",
            "                                                                                                  \n",
            " conv2_block3_3_bn (BatchNormal  (None, None, None,   1024       ['conv2_block3_3_conv[0][0]']    \n",
            " ization)                       256)                                                              \n",
            "                                                                                                  \n",
            " conv2_block3_add (Add)         (None, None, None,   0           ['conv2_block2_out[0][0]',       \n",
            "                                256)                              'conv2_block3_3_bn[0][0]']      \n",
            "                                                                                                  \n",
            " conv2_block3_out (Activation)  (None, None, None,   0           ['conv2_block3_add[0][0]']       \n",
            "                                256)                                                              \n",
            "                                                                                                  \n",
            " conv3_block1_1_conv (Conv2D)   (None, None, None,   32896       ['conv2_block3_out[0][0]']       \n",
            "                                128)                                                              \n",
            "                                                                                                  \n",
            " conv3_block1_1_bn (BatchNormal  (None, None, None,   512        ['conv3_block1_1_conv[0][0]']    \n",
            " ization)                       128)                                                              \n",
            "                                                                                                  \n",
            " conv3_block1_1_relu (Activatio  (None, None, None,   0          ['conv3_block1_1_bn[0][0]']      \n",
            " n)                             128)                                                              \n",
            "                                                                                                  \n",
            " conv3_block1_2_conv (Conv2D)   (None, None, None,   147584      ['conv3_block1_1_relu[0][0]']    \n",
            "                                128)                                                              \n",
            "                                                                                                  \n",
            " conv3_block1_2_bn (BatchNormal  (None, None, None,   512        ['conv3_block1_2_conv[0][0]']    \n",
            " ization)                       128)                                                              \n",
            "                                                                                                  \n",
            " conv3_block1_2_relu (Activatio  (None, None, None,   0          ['conv3_block1_2_bn[0][0]']      \n",
            " n)                             128)                                                              \n",
            "                                                                                                  \n",
            " conv3_block1_0_conv (Conv2D)   (None, None, None,   131584      ['conv2_block3_out[0][0]']       \n",
            "                                512)                                                              \n",
            "                                                                                                  \n",
            " conv3_block1_3_conv (Conv2D)   (None, None, None,   66048       ['conv3_block1_2_relu[0][0]']    \n",
            "                                512)                                                              \n",
            "                                                                                                  \n",
            " conv3_block1_0_bn (BatchNormal  (None, None, None,   2048       ['conv3_block1_0_conv[0][0]']    \n",
            " ization)                       512)                                                              \n",
            "                                                                                                  \n",
            " conv3_block1_3_bn (BatchNormal  (None, None, None,   2048       ['conv3_block1_3_conv[0][0]']    \n",
            " ization)                       512)                                                              \n",
            "                                                                                                  \n",
            " conv3_block1_add (Add)         (None, None, None,   0           ['conv3_block1_0_bn[0][0]',      \n",
            "                                512)                              'conv3_block1_3_bn[0][0]']      \n",
            "                                                                                                  \n",
            " conv3_block1_out (Activation)  (None, None, None,   0           ['conv3_block1_add[0][0]']       \n",
            "                                512)                                                              \n",
            "                                                                                                  \n",
            " conv3_block2_1_conv (Conv2D)   (None, None, None,   65664       ['conv3_block1_out[0][0]']       \n",
            "                                128)                                                              \n",
            "                                                                                                  \n",
            " conv3_block2_1_bn (BatchNormal  (None, None, None,   512        ['conv3_block2_1_conv[0][0]']    \n",
            " ization)                       128)                                                              \n",
            "                                                                                                  \n",
            " conv3_block2_1_relu (Activatio  (None, None, None,   0          ['conv3_block2_1_bn[0][0]']      \n",
            " n)                             128)                                                              \n",
            "                                                                                                  \n",
            " conv3_block2_2_conv (Conv2D)   (None, None, None,   147584      ['conv3_block2_1_relu[0][0]']    \n",
            "                                128)                                                              \n",
            "                                                                                                  \n",
            " conv3_block2_2_bn (BatchNormal  (None, None, None,   512        ['conv3_block2_2_conv[0][0]']    \n",
            " ization)                       128)                                                              \n",
            "                                                                                                  \n",
            " conv3_block2_2_relu (Activatio  (None, None, None,   0          ['conv3_block2_2_bn[0][0]']      \n",
            " n)                             128)                                                              \n",
            "                                                                                                  \n",
            " conv3_block2_3_conv (Conv2D)   (None, None, None,   66048       ['conv3_block2_2_relu[0][0]']    \n",
            "                                512)                                                              \n",
            "                                                                                                  \n",
            " conv3_block2_3_bn (BatchNormal  (None, None, None,   2048       ['conv3_block2_3_conv[0][0]']    \n",
            " ization)                       512)                                                              \n",
            "                                                                                                  \n",
            " conv3_block2_add (Add)         (None, None, None,   0           ['conv3_block1_out[0][0]',       \n",
            "                                512)                              'conv3_block2_3_bn[0][0]']      \n",
            "                                                                                                  \n",
            " conv3_block2_out (Activation)  (None, None, None,   0           ['conv3_block2_add[0][0]']       \n",
            "                                512)                                                              \n",
            "                                                                                                  \n",
            " conv3_block3_1_conv (Conv2D)   (None, None, None,   65664       ['conv3_block2_out[0][0]']       \n",
            "                                128)                                                              \n",
            "                                                                                                  \n",
            " conv3_block3_1_bn (BatchNormal  (None, None, None,   512        ['conv3_block3_1_conv[0][0]']    \n",
            " ization)                       128)                                                              \n",
            "                                                                                                  \n",
            " conv3_block3_1_relu (Activatio  (None, None, None,   0          ['conv3_block3_1_bn[0][0]']      \n",
            " n)                             128)                                                              \n",
            "                                                                                                  \n",
            " conv3_block3_2_conv (Conv2D)   (None, None, None,   147584      ['conv3_block3_1_relu[0][0]']    \n",
            "                                128)                                                              \n",
            "                                                                                                  \n",
            " conv3_block3_2_bn (BatchNormal  (None, None, None,   512        ['conv3_block3_2_conv[0][0]']    \n",
            " ization)                       128)                                                              \n",
            "                                                                                                  \n",
            " conv3_block3_2_relu (Activatio  (None, None, None,   0          ['conv3_block3_2_bn[0][0]']      \n",
            " n)                             128)                                                              \n",
            "                                                                                                  \n",
            " conv3_block3_3_conv (Conv2D)   (None, None, None,   66048       ['conv3_block3_2_relu[0][0]']    \n",
            "                                512)                                                              \n",
            "                                                                                                  \n",
            " conv3_block3_3_bn (BatchNormal  (None, None, None,   2048       ['conv3_block3_3_conv[0][0]']    \n",
            " ization)                       512)                                                              \n",
            "                                                                                                  \n",
            " conv3_block3_add (Add)         (None, None, None,   0           ['conv3_block2_out[0][0]',       \n",
            "                                512)                              'conv3_block3_3_bn[0][0]']      \n",
            "                                                                                                  \n",
            " conv3_block3_out (Activation)  (None, None, None,   0           ['conv3_block3_add[0][0]']       \n",
            "                                512)                                                              \n",
            "                                                                                                  \n",
            " conv3_block4_1_conv (Conv2D)   (None, None, None,   65664       ['conv3_block3_out[0][0]']       \n",
            "                                128)                                                              \n",
            "                                                                                                  \n",
            " conv3_block4_1_bn (BatchNormal  (None, None, None,   512        ['conv3_block4_1_conv[0][0]']    \n",
            " ization)                       128)                                                              \n",
            "                                                                                                  \n",
            " conv3_block4_1_relu (Activatio  (None, None, None,   0          ['conv3_block4_1_bn[0][0]']      \n",
            " n)                             128)                                                              \n",
            "                                                                                                  \n",
            " conv3_block4_2_conv (Conv2D)   (None, None, None,   147584      ['conv3_block4_1_relu[0][0]']    \n",
            "                                128)                                                              \n",
            "                                                                                                  \n",
            " conv3_block4_2_bn (BatchNormal  (None, None, None,   512        ['conv3_block4_2_conv[0][0]']    \n",
            " ization)                       128)                                                              \n",
            "                                                                                                  \n",
            " conv3_block4_2_relu (Activatio  (None, None, None,   0          ['conv3_block4_2_bn[0][0]']      \n",
            " n)                             128)                                                              \n",
            "                                                                                                  \n",
            " conv3_block4_3_conv (Conv2D)   (None, None, None,   66048       ['conv3_block4_2_relu[0][0]']    \n",
            "                                512)                                                              \n",
            "                                                                                                  \n",
            " conv3_block4_3_bn (BatchNormal  (None, None, None,   2048       ['conv3_block4_3_conv[0][0]']    \n",
            " ization)                       512)                                                              \n",
            "                                                                                                  \n",
            " conv3_block4_add (Add)         (None, None, None,   0           ['conv3_block3_out[0][0]',       \n",
            "                                512)                              'conv3_block4_3_bn[0][0]']      \n",
            "                                                                                                  \n",
            " conv3_block4_out (Activation)  (None, None, None,   0           ['conv3_block4_add[0][0]']       \n",
            "                                512)                                                              \n",
            "                                                                                                  \n",
            " conv4_block1_1_conv (Conv2D)   (None, None, None,   131328      ['conv3_block4_out[0][0]']       \n",
            "                                256)                                                              \n",
            "                                                                                                  \n",
            " conv4_block1_1_bn (BatchNormal  (None, None, None,   1024       ['conv4_block1_1_conv[0][0]']    \n",
            " ization)                       256)                                                              \n",
            "                                                                                                  \n",
            " conv4_block1_1_relu (Activatio  (None, None, None,   0          ['conv4_block1_1_bn[0][0]']      \n",
            " n)                             256)                                                              \n",
            "                                                                                                  \n",
            " conv4_block1_2_conv (Conv2D)   (None, None, None,   590080      ['conv4_block1_1_relu[0][0]']    \n",
            "                                256)                                                              \n",
            "                                                                                                  \n",
            " conv4_block1_2_bn (BatchNormal  (None, None, None,   1024       ['conv4_block1_2_conv[0][0]']    \n",
            " ization)                       256)                                                              \n",
            "                                                                                                  \n",
            " conv4_block1_2_relu (Activatio  (None, None, None,   0          ['conv4_block1_2_bn[0][0]']      \n",
            " n)                             256)                                                              \n",
            "                                                                                                  \n",
            " conv4_block1_0_conv (Conv2D)   (None, None, None,   525312      ['conv3_block4_out[0][0]']       \n",
            "                                1024)                                                             \n",
            "                                                                                                  \n",
            " conv4_block1_3_conv (Conv2D)   (None, None, None,   263168      ['conv4_block1_2_relu[0][0]']    \n",
            "                                1024)                                                             \n",
            "                                                                                                  \n",
            " conv4_block1_0_bn (BatchNormal  (None, None, None,   4096       ['conv4_block1_0_conv[0][0]']    \n",
            " ization)                       1024)                                                             \n",
            "                                                                                                  \n",
            " conv4_block1_3_bn (BatchNormal  (None, None, None,   4096       ['conv4_block1_3_conv[0][0]']    \n",
            " ization)                       1024)                                                             \n",
            "                                                                                                  \n",
            " conv4_block1_add (Add)         (None, None, None,   0           ['conv4_block1_0_bn[0][0]',      \n",
            "                                1024)                             'conv4_block1_3_bn[0][0]']      \n",
            "                                                                                                  \n",
            " conv4_block1_out (Activation)  (None, None, None,   0           ['conv4_block1_add[0][0]']       \n",
            "                                1024)                                                             \n",
            "                                                                                                  \n",
            " conv4_block2_1_conv (Conv2D)   (None, None, None,   262400      ['conv4_block1_out[0][0]']       \n",
            "                                256)                                                              \n",
            "                                                                                                  \n",
            " conv4_block2_1_bn (BatchNormal  (None, None, None,   1024       ['conv4_block2_1_conv[0][0]']    \n",
            " ization)                       256)                                                              \n",
            "                                                                                                  \n",
            " conv4_block2_1_relu (Activatio  (None, None, None,   0          ['conv4_block2_1_bn[0][0]']      \n",
            " n)                             256)                                                              \n",
            "                                                                                                  \n",
            " conv4_block2_2_conv (Conv2D)   (None, None, None,   590080      ['conv4_block2_1_relu[0][0]']    \n",
            "                                256)                                                              \n",
            "                                                                                                  \n",
            " conv4_block2_2_bn (BatchNormal  (None, None, None,   1024       ['conv4_block2_2_conv[0][0]']    \n",
            " ization)                       256)                                                              \n",
            "                                                                                                  \n",
            " conv4_block2_2_relu (Activatio  (None, None, None,   0          ['conv4_block2_2_bn[0][0]']      \n",
            " n)                             256)                                                              \n",
            "                                                                                                  \n",
            " conv4_block2_3_conv (Conv2D)   (None, None, None,   263168      ['conv4_block2_2_relu[0][0]']    \n",
            "                                1024)                                                             \n",
            "                                                                                                  \n",
            " conv4_block2_3_bn (BatchNormal  (None, None, None,   4096       ['conv4_block2_3_conv[0][0]']    \n",
            " ization)                       1024)                                                             \n",
            "                                                                                                  \n",
            " conv4_block2_add (Add)         (None, None, None,   0           ['conv4_block1_out[0][0]',       \n",
            "                                1024)                             'conv4_block2_3_bn[0][0]']      \n",
            "                                                                                                  \n",
            " conv4_block2_out (Activation)  (None, None, None,   0           ['conv4_block2_add[0][0]']       \n",
            "                                1024)                                                             \n",
            "                                                                                                  \n",
            " conv4_block3_1_conv (Conv2D)   (None, None, None,   262400      ['conv4_block2_out[0][0]']       \n",
            "                                256)                                                              \n",
            "                                                                                                  \n",
            " conv4_block3_1_bn (BatchNormal  (None, None, None,   1024       ['conv4_block3_1_conv[0][0]']    \n",
            " ization)                       256)                                                              \n",
            "                                                                                                  \n",
            " conv4_block3_1_relu (Activatio  (None, None, None,   0          ['conv4_block3_1_bn[0][0]']      \n",
            " n)                             256)                                                              \n",
            "                                                                                                  \n",
            " conv4_block3_2_conv (Conv2D)   (None, None, None,   590080      ['conv4_block3_1_relu[0][0]']    \n",
            "                                256)                                                              \n",
            "                                                                                                  \n",
            " conv4_block3_2_bn (BatchNormal  (None, None, None,   1024       ['conv4_block3_2_conv[0][0]']    \n",
            " ization)                       256)                                                              \n",
            "                                                                                                  \n",
            " conv4_block3_2_relu (Activatio  (None, None, None,   0          ['conv4_block3_2_bn[0][0]']      \n",
            " n)                             256)                                                              \n",
            "                                                                                                  \n",
            " conv4_block3_3_conv (Conv2D)   (None, None, None,   263168      ['conv4_block3_2_relu[0][0]']    \n",
            "                                1024)                                                             \n",
            "                                                                                                  \n",
            " conv4_block3_3_bn (BatchNormal  (None, None, None,   4096       ['conv4_block3_3_conv[0][0]']    \n",
            " ization)                       1024)                                                             \n",
            "                                                                                                  \n",
            " conv4_block3_add (Add)         (None, None, None,   0           ['conv4_block2_out[0][0]',       \n",
            "                                1024)                             'conv4_block3_3_bn[0][0]']      \n",
            "                                                                                                  \n",
            " conv4_block3_out (Activation)  (None, None, None,   0           ['conv4_block3_add[0][0]']       \n",
            "                                1024)                                                             \n",
            "                                                                                                  \n",
            " conv4_block4_1_conv (Conv2D)   (None, None, None,   262400      ['conv4_block3_out[0][0]']       \n",
            "                                256)                                                              \n",
            "                                                                                                  \n",
            " conv4_block4_1_bn (BatchNormal  (None, None, None,   1024       ['conv4_block4_1_conv[0][0]']    \n",
            " ization)                       256)                                                              \n",
            "                                                                                                  \n",
            " conv4_block4_1_relu (Activatio  (None, None, None,   0          ['conv4_block4_1_bn[0][0]']      \n",
            " n)                             256)                                                              \n",
            "                                                                                                  \n",
            " conv4_block4_2_conv (Conv2D)   (None, None, None,   590080      ['conv4_block4_1_relu[0][0]']    \n",
            "                                256)                                                              \n",
            "                                                                                                  \n",
            " conv4_block4_2_bn (BatchNormal  (None, None, None,   1024       ['conv4_block4_2_conv[0][0]']    \n",
            " ization)                       256)                                                              \n",
            "                                                                                                  \n",
            " conv4_block4_2_relu (Activatio  (None, None, None,   0          ['conv4_block4_2_bn[0][0]']      \n",
            " n)                             256)                                                              \n",
            "                                                                                                  \n",
            " conv4_block4_3_conv (Conv2D)   (None, None, None,   263168      ['conv4_block4_2_relu[0][0]']    \n",
            "                                1024)                                                             \n",
            "                                                                                                  \n",
            " conv4_block4_3_bn (BatchNormal  (None, None, None,   4096       ['conv4_block4_3_conv[0][0]']    \n",
            " ization)                       1024)                                                             \n",
            "                                                                                                  \n",
            " conv4_block4_add (Add)         (None, None, None,   0           ['conv4_block3_out[0][0]',       \n",
            "                                1024)                             'conv4_block4_3_bn[0][0]']      \n",
            "                                                                                                  \n",
            " conv4_block4_out (Activation)  (None, None, None,   0           ['conv4_block4_add[0][0]']       \n",
            "                                1024)                                                             \n",
            "                                                                                                  \n",
            " conv4_block5_1_conv (Conv2D)   (None, None, None,   262400      ['conv4_block4_out[0][0]']       \n",
            "                                256)                                                              \n",
            "                                                                                                  \n",
            " conv4_block5_1_bn (BatchNormal  (None, None, None,   1024       ['conv4_block5_1_conv[0][0]']    \n",
            " ization)                       256)                                                              \n",
            "                                                                                                  \n",
            " conv4_block5_1_relu (Activatio  (None, None, None,   0          ['conv4_block5_1_bn[0][0]']      \n",
            " n)                             256)                                                              \n",
            "                                                                                                  \n",
            " conv4_block5_2_conv (Conv2D)   (None, None, None,   590080      ['conv4_block5_1_relu[0][0]']    \n",
            "                                256)                                                              \n",
            "                                                                                                  \n",
            " conv4_block5_2_bn (BatchNormal  (None, None, None,   1024       ['conv4_block5_2_conv[0][0]']    \n",
            " ization)                       256)                                                              \n",
            "                                                                                                  \n",
            " conv4_block5_2_relu (Activatio  (None, None, None,   0          ['conv4_block5_2_bn[0][0]']      \n",
            " n)                             256)                                                              \n",
            "                                                                                                  \n",
            " conv4_block5_3_conv (Conv2D)   (None, None, None,   263168      ['conv4_block5_2_relu[0][0]']    \n",
            "                                1024)                                                             \n",
            "                                                                                                  \n",
            " conv4_block5_3_bn (BatchNormal  (None, None, None,   4096       ['conv4_block5_3_conv[0][0]']    \n",
            " ization)                       1024)                                                             \n",
            "                                                                                                  \n",
            " conv4_block5_add (Add)         (None, None, None,   0           ['conv4_block4_out[0][0]',       \n",
            "                                1024)                             'conv4_block5_3_bn[0][0]']      \n",
            "                                                                                                  \n",
            " conv4_block5_out (Activation)  (None, None, None,   0           ['conv4_block5_add[0][0]']       \n",
            "                                1024)                                                             \n",
            "                                                                                                  \n",
            " conv4_block6_1_conv (Conv2D)   (None, None, None,   262400      ['conv4_block5_out[0][0]']       \n",
            "                                256)                                                              \n",
            "                                                                                                  \n",
            " conv4_block6_1_bn (BatchNormal  (None, None, None,   1024       ['conv4_block6_1_conv[0][0]']    \n",
            " ization)                       256)                                                              \n",
            "                                                                                                  \n",
            " conv4_block6_1_relu (Activatio  (None, None, None,   0          ['conv4_block6_1_bn[0][0]']      \n",
            " n)                             256)                                                              \n",
            "                                                                                                  \n",
            " conv4_block6_2_conv (Conv2D)   (None, None, None,   590080      ['conv4_block6_1_relu[0][0]']    \n",
            "                                256)                                                              \n",
            "                                                                                                  \n",
            " conv4_block6_2_bn (BatchNormal  (None, None, None,   1024       ['conv4_block6_2_conv[0][0]']    \n",
            " ization)                       256)                                                              \n",
            "                                                                                                  \n",
            " conv4_block6_2_relu (Activatio  (None, None, None,   0          ['conv4_block6_2_bn[0][0]']      \n",
            " n)                             256)                                                              \n",
            "                                                                                                  \n",
            " conv4_block6_3_conv (Conv2D)   (None, None, None,   263168      ['conv4_block6_2_relu[0][0]']    \n",
            "                                1024)                                                             \n",
            "                                                                                                  \n",
            " conv4_block6_3_bn (BatchNormal  (None, None, None,   4096       ['conv4_block6_3_conv[0][0]']    \n",
            " ization)                       1024)                                                             \n",
            "                                                                                                  \n",
            " conv4_block6_add (Add)         (None, None, None,   0           ['conv4_block5_out[0][0]',       \n",
            "                                1024)                             'conv4_block6_3_bn[0][0]']      \n",
            "                                                                                                  \n",
            " conv4_block6_out (Activation)  (None, None, None,   0           ['conv4_block6_add[0][0]']       \n",
            "                                1024)                                                             \n",
            "                                                                                                  \n",
            " conv5_block1_1_conv (Conv2D)   (None, None, None,   524800      ['conv4_block6_out[0][0]']       \n",
            "                                512)                                                              \n",
            "                                                                                                  \n",
            " conv5_block1_1_bn (BatchNormal  (None, None, None,   2048       ['conv5_block1_1_conv[0][0]']    \n",
            " ization)                       512)                                                              \n",
            "                                                                                                  \n",
            " conv5_block1_1_relu (Activatio  (None, None, None,   0          ['conv5_block1_1_bn[0][0]']      \n",
            " n)                             512)                                                              \n",
            "                                                                                                  \n",
            " conv5_block1_2_conv (Conv2D)   (None, None, None,   2359808     ['conv5_block1_1_relu[0][0]']    \n",
            "                                512)                                                              \n",
            "                                                                                                  \n",
            " conv5_block1_2_bn (BatchNormal  (None, None, None,   2048       ['conv5_block1_2_conv[0][0]']    \n",
            " ization)                       512)                                                              \n",
            "                                                                                                  \n",
            " conv5_block1_2_relu (Activatio  (None, None, None,   0          ['conv5_block1_2_bn[0][0]']      \n",
            " n)                             512)                                                              \n",
            "                                                                                                  \n",
            " conv5_block1_0_conv (Conv2D)   (None, None, None,   2099200     ['conv4_block6_out[0][0]']       \n",
            "                                2048)                                                             \n",
            "                                                                                                  \n",
            " conv5_block1_3_conv (Conv2D)   (None, None, None,   1050624     ['conv5_block1_2_relu[0][0]']    \n",
            "                                2048)                                                             \n",
            "                                                                                                  \n",
            " conv5_block1_0_bn (BatchNormal  (None, None, None,   8192       ['conv5_block1_0_conv[0][0]']    \n",
            " ization)                       2048)                                                             \n",
            "                                                                                                  \n",
            " conv5_block1_3_bn (BatchNormal  (None, None, None,   8192       ['conv5_block1_3_conv[0][0]']    \n",
            " ization)                       2048)                                                             \n",
            "                                                                                                  \n",
            " conv5_block1_add (Add)         (None, None, None,   0           ['conv5_block1_0_bn[0][0]',      \n",
            "                                2048)                             'conv5_block1_3_bn[0][0]']      \n",
            "                                                                                                  \n",
            " conv5_block1_out (Activation)  (None, None, None,   0           ['conv5_block1_add[0][0]']       \n",
            "                                2048)                                                             \n",
            "                                                                                                  \n",
            " conv5_block2_1_conv (Conv2D)   (None, None, None,   1049088     ['conv5_block1_out[0][0]']       \n",
            "                                512)                                                              \n",
            "                                                                                                  \n",
            " conv5_block2_1_bn (BatchNormal  (None, None, None,   2048       ['conv5_block2_1_conv[0][0]']    \n",
            " ization)                       512)                                                              \n",
            "                                                                                                  \n",
            " conv5_block2_1_relu (Activatio  (None, None, None,   0          ['conv5_block2_1_bn[0][0]']      \n",
            " n)                             512)                                                              \n",
            "                                                                                                  \n",
            " conv5_block2_2_conv (Conv2D)   (None, None, None,   2359808     ['conv5_block2_1_relu[0][0]']    \n",
            "                                512)                                                              \n",
            "                                                                                                  \n",
            " conv5_block2_2_bn (BatchNormal  (None, None, None,   2048       ['conv5_block2_2_conv[0][0]']    \n",
            " ization)                       512)                                                              \n",
            "                                                                                                  \n",
            " conv5_block2_2_relu (Activatio  (None, None, None,   0          ['conv5_block2_2_bn[0][0]']      \n",
            " n)                             512)                                                              \n",
            "                                                                                                  \n",
            " conv5_block2_3_conv (Conv2D)   (None, None, None,   1050624     ['conv5_block2_2_relu[0][0]']    \n",
            "                                2048)                                                             \n",
            "                                                                                                  \n",
            " conv5_block2_3_bn (BatchNormal  (None, None, None,   8192       ['conv5_block2_3_conv[0][0]']    \n",
            " ization)                       2048)                                                             \n",
            "                                                                                                  \n",
            " conv5_block2_add (Add)         (None, None, None,   0           ['conv5_block1_out[0][0]',       \n",
            "                                2048)                             'conv5_block2_3_bn[0][0]']      \n",
            "                                                                                                  \n",
            " conv5_block2_out (Activation)  (None, None, None,   0           ['conv5_block2_add[0][0]']       \n",
            "                                2048)                                                             \n",
            "                                                                                                  \n",
            " conv5_block3_1_conv (Conv2D)   (None, None, None,   1049088     ['conv5_block2_out[0][0]']       \n",
            "                                512)                                                              \n",
            "                                                                                                  \n",
            " conv5_block3_1_bn (BatchNormal  (None, None, None,   2048       ['conv5_block3_1_conv[0][0]']    \n",
            " ization)                       512)                                                              \n",
            "                                                                                                  \n",
            " conv5_block3_1_relu (Activatio  (None, None, None,   0          ['conv5_block3_1_bn[0][0]']      \n",
            " n)                             512)                                                              \n",
            "                                                                                                  \n",
            " conv5_block3_2_conv (Conv2D)   (None, None, None,   2359808     ['conv5_block3_1_relu[0][0]']    \n",
            "                                512)                                                              \n",
            "                                                                                                  \n",
            " conv5_block3_2_bn (BatchNormal  (None, None, None,   2048       ['conv5_block3_2_conv[0][0]']    \n",
            " ization)                       512)                                                              \n",
            "                                                                                                  \n",
            " conv5_block3_2_relu (Activatio  (None, None, None,   0          ['conv5_block3_2_bn[0][0]']      \n",
            " n)                             512)                                                              \n",
            "                                                                                                  \n",
            " conv5_block3_3_conv (Conv2D)   (None, None, None,   1050624     ['conv5_block3_2_relu[0][0]']    \n",
            "                                2048)                                                             \n",
            "                                                                                                  \n",
            " conv5_block3_3_bn (BatchNormal  (None, None, None,   8192       ['conv5_block3_3_conv[0][0]']    \n",
            " ization)                       2048)                                                             \n",
            "                                                                                                  \n",
            " conv5_block3_add (Add)         (None, None, None,   0           ['conv5_block2_out[0][0]',       \n",
            "                                2048)                             'conv5_block3_3_bn[0][0]']      \n",
            "                                                                                                  \n",
            " conv5_block3_out (Activation)  (None, None, None,   0           ['conv5_block3_add[0][0]']       \n",
            "                                2048)                                                             \n",
            "                                                                                                  \n",
            "==================================================================================================\n",
            "Total params: 23,587,712\n",
            "Trainable params: 0\n",
            "Non-trainable params: 23,587,712\n",
            "__________________________________________________________________________________________________\n"
          ]
        }
      ],
      "source": [
        "class_model_base = keras.applications.ResNet50(\n",
        "    weights=\"imagenet\",\n",
        "    include_top=False)\n",
        "\n",
        "class_model_base.trainable = False\n",
        "\n",
        "class_model_base.summary()"
      ]
    },
    {
      "cell_type": "code",
      "execution_count": null,
      "metadata": {
        "colab": {
          "base_uri": "https://localhost:8080/"
        },
        "id": "aRE4GTwBm9c3",
        "outputId": "aae1afa7-add0-448e-adc4-7fda6fbb6ffe"
      },
      "outputs": [
        {
          "name": "stdout",
          "output_type": "stream",
          "text": [
            "The number of trainable weights in the pretrained model: 40\n"
          ]
        }
      ],
      "source": [
        "class_model_base.trainable = True\n",
        "\n",
        "for layer in class_model_base.layers[:-32]: # making the last layers of the ResNet model trainable - 32 for fine tuned ResNet50\n",
        "  layer.trainable = False\n",
        "\n",
        "print(\"The number of trainable weights in the pretrained model:\", len(class_model_base.trainable_weights))\n"
      ]
    },
    {
      "cell_type": "code",
      "execution_count": null,
      "metadata": {
        "colab": {
          "base_uri": "https://localhost:8080/"
        },
        "id": "zP54aWZanCS7",
        "outputId": "d9caae78-e6a4-44bd-9460-7267d656c9cd"
      },
      "outputs": [
        {
          "name": "stdout",
          "output_type": "stream",
          "text": [
            "143 conv5_block1_1_conv - True\n",
            "144 conv5_block1_1_bn - True\n",
            "145 conv5_block1_1_relu - True\n",
            "146 conv5_block1_2_conv - True\n",
            "147 conv5_block1_2_bn - True\n",
            "148 conv5_block1_2_relu - True\n",
            "149 conv5_block1_0_conv - True\n",
            "150 conv5_block1_3_conv - True\n",
            "151 conv5_block1_0_bn - True\n",
            "152 conv5_block1_3_bn - True\n",
            "153 conv5_block1_add - True\n",
            "154 conv5_block1_out - True\n",
            "155 conv5_block2_1_conv - True\n",
            "156 conv5_block2_1_bn - True\n",
            "157 conv5_block2_1_relu - True\n",
            "158 conv5_block2_2_conv - True\n",
            "159 conv5_block2_2_bn - True\n",
            "160 conv5_block2_2_relu - True\n",
            "161 conv5_block2_3_conv - True\n",
            "162 conv5_block2_3_bn - True\n",
            "163 conv5_block2_add - True\n",
            "164 conv5_block2_out - True\n",
            "165 conv5_block3_1_conv - True\n",
            "166 conv5_block3_1_bn - True\n",
            "167 conv5_block3_1_relu - True\n",
            "168 conv5_block3_2_conv - True\n",
            "169 conv5_block3_2_bn - True\n",
            "170 conv5_block3_2_relu - True\n",
            "171 conv5_block3_3_conv - True\n",
            "172 conv5_block3_3_bn - True\n",
            "173 conv5_block3_add - True\n",
            "174 conv5_block3_out - True\n"
          ]
        }
      ],
      "source": [
        "for i, layer in enumerate(class_model_base.layers):\n",
        "  if layer.trainable == True: # This prints only the trainable layers of the ResNet50 model base\n",
        "    print(i, layer.name, \"-\", layer.trainable) # Prints the trainable layers that will be used for fine-tuning"
      ]
    },
    {
      "cell_type": "code",
      "execution_count": null,
      "metadata": {
        "id": "SLxTPgIMnFSp"
      },
      "outputs": [],
      "source": [
        "class_weight = {0: 1.00,\n",
        "                1: 1.75,\n",
        "                2: 1.94,\n",
        "                3: 6.40} # This is not used within the pre-trained models\n",
        "\n",
        "data_augmentation = keras.Sequential(\n",
        "    [\n",
        "        layers.RandomRotation(0.1, fill_mode='constant',fill_value=0),\n",
        "        layers.RandomZoom(0.1),\n",
        "        layers.RandomTranslation(0.1,0.1,fill_mode='constant',fill_value=0),\n",
        "    ]\n",
        ")\n",
        "\n",
        "inputs = keras.Input(shape=(200, 200, 3))\n",
        "x = layers.Rescaling(1./255),\n",
        "x = data_augmentation(inputs)\n",
        "x = keras.applications.resnet50.preprocess_input(x)\n",
        "x = class_model_base(x) # using the ResNet pre-trained model as the base for my image classification model\n",
        "x = layers.Flatten()(x)\n",
        "x = layers.Dense(512, activation=tf.nn.relu)(x)\n",
        "x = layers.Dropout(0.2)(x) # Used a dropout rate of 0.2 to regularize the model\n",
        "outputs = layers.Dense(nb_classes, activation=tf.nn.softmax)(x)\n",
        "model = keras.Model(inputs, outputs)\n",
        "\n",
        "model.compile(optimizer = 'adam', \n",
        "              loss = 'sparse_categorical_crossentropy', \n",
        "              metrics = ['accuracy'])"
      ]
    },
    {
      "attachments": {},
      "cell_type": "markdown",
      "metadata": {
        "id": "aR1HCPbvJVKx"
      },
      "source": [
        "Creating callbacks and fitting the pre-trained model."
      ]
    },
    {
      "cell_type": "code",
      "execution_count": null,
      "metadata": {
        "id": "vc4AyaS_n74E"
      },
      "outputs": [],
      "source": [
        "callbacks = [\n",
        "    keras.callbacks.ModelCheckpoint(\n",
        "        filepath=\"resnet50_im_class_model.keras\",\n",
        "        save_best_only=True,\n",
        "        monitor=\"val_loss\")\n",
        "]\n",
        "\n",
        "history = model.fit(train_images, \n",
        "                    train_labels, \n",
        "                    batch_size=128, \n",
        "                    epochs=40, \n",
        "                    validation_split = 0.2,\n",
        "                    callbacks=callbacks)\n"
      ]
    },
    {
      "attachments": {},
      "cell_type": "markdown",
      "metadata": {
        "id": "nvTgTbzTzHd3"
      },
      "source": [
        "Plotting the loss and accuracy of the pre-trained models."
      ]
    },
    {
      "cell_type": "code",
      "execution_count": null,
      "metadata": {
        "colab": {
          "base_uri": "https://localhost:8080/",
          "height": 328
        },
        "id": "N8qLAyEzy6yd",
        "outputId": "ed0936e9-ae1b-44c4-f2c7-65450de9ebd7"
      },
      "outputs": [
        {
          "data": {
            "image/png": "[encoded data removed]",
            "text/plain": [
              "<Figure size 1080x720 with 2 Axes>"
            ]
          },
          "metadata": {
            "needs_background": "light"
          },
          "output_type": "display_data"
        }
      ],
      "source": [
        "fig = plt.figure(figsize=(15,10))\n",
        "\n",
        "plt.style.use('seaborn-notebook')\n",
        "\n",
        "train_col = \"#005035\"\n",
        "val_col = \"#A49665\"\n",
        "\n",
        "#plot accuracy: \n",
        "plt.subplot(221)\n",
        "plt.plot(history.history['accuracy'],'bo-', label='acc', color=train_col)\n",
        "plt.plot(history.history['val_accuracy'],'ro--', label='val_acc', color=val_col)\n",
        "plt.title('train_acc vs val_acc')\n",
        "plt.ylabel('accuracy')\n",
        "plt.xlabel('epochs')\n",
        "plt.legend()\n",
        "\n",
        "#plot loss\n",
        "plt.subplot(222)\n",
        "plt.plot(history.history['loss'],'bo-', label='loss', color=train_col)\n",
        "plt.plot(history.history['val_loss'],'ro--', label='val_loss', color=val_col)\n",
        "plt.title('train_loss vs val_loss')\n",
        "plt.ylabel('loss')\n",
        "plt.xlabel('epochs')\n",
        "plt.legend()\n",
        "\n",
        "plt.show()"
      ]
    },
    {
      "attachments": {},
      "cell_type": "markdown",
      "metadata": {
        "id": "qyEvrnTrzCz0"
      },
      "source": [
        "Evaluating the pre-trained models"
      ]
    },
    {
      "cell_type": "code",
      "execution_count": null,
      "metadata": {
        "colab": {
          "base_uri": "https://localhost:8080/"
        },
        "id": "QuN0Foyxy72m",
        "outputId": "e8a5aca8-4d19-4c79-f61d-4e3612e1fb30"
      },
      "outputs": [
        {
          "name": "stdout",
          "output_type": "stream",
          "text": [
            "100/100 [==============================] - 9s 84ms/step - loss: 0.3505 - accuracy: 0.8565\n",
            "Test accuracy: 0.857\n"
          ]
        }
      ],
      "source": [
        "# Evaluating the model on the test dataset\n",
        "test_model = keras.models.load_model('resnet50_im_class_model.keras')\n",
        "test_loss, test_acc = test_model.evaluate(test_images, test_labels)\n",
        "print(f\"Test accuracy: {test_acc:.3f}\")"
      ]
    },
    {
      "cell_type": "code",
      "execution_count": null,
      "metadata": {
        "colab": {
          "base_uri": "https://localhost:8080/"
        },
        "id": "VgImtls0zhOL",
        "outputId": "d3104163-889f-4f68-e2e1-a612d9283226"
      },
      "outputs": [
        {
          "name": "stdout",
          "output_type": "stream",
          "text": [
            "[0, 0, 0, 1, 0, 1, 2, 1, 2, 0, 1, 0, 2, 2, 0, 2, 1, 1, 3, 0, 2, 0, 0, 0, 0, 0, 3, 0, 0, 0, 3, 2, 1, 2, 0, 2, 0, 3, 0, 0, 0, 1, 0, 3, 2, 0, 2, 0, 0, 3, 0, 0, 1, 0, 0, 2, 2, 0, 0, 2, 0, 2, 2, 2, 1, 0, 0, 1, 1, 0, 2, 0, 0, 1, 0, 3, 0, 0, 2, 1, 2, 3, 2, 2, 0, 1, 1, 0, 1, 0, 2, 2, 2, 2, 0, 1, 1, 1, 0, 2]\n"
          ]
        }
      ],
      "source": [
        "from random import sample\n",
        "\n",
        "sample_list = sample(list(test_labels), 100)\n",
        "print(sample_list)"
      ]
    },
    {
      "cell_type": "code",
      "execution_count": null,
      "metadata": {
        "colab": {
          "base_uri": "https://localhost:8080/"
        },
        "id": "XbcT1cOpy_Pj",
        "outputId": "14e2fba5-8b25-47d0-fd6e-9d2cf0d6de90"
      },
      "outputs": [
        {
          "name": "stdout",
          "output_type": "stream",
          "text": [
            "100/100 [==============================] - 9s 82ms/step\n",
            "              precision    recall  f1-score   support\n",
            "\n",
            "           0       0.86      0.87      0.86      1405\n",
            "           1       0.97      0.92      0.95       816\n",
            "           2       0.72      0.73      0.73       734\n",
            "           3       0.91      0.95      0.93       223\n",
            "\n",
            "    accuracy                           0.86      3178\n",
            "   macro avg       0.87      0.87      0.87      3178\n",
            "weighted avg       0.86      0.86      0.86      3178\n",
            "\n"
          ]
        }
      ],
      "source": [
        "predictions = test_model.predict(test_images)\n",
        "pred_labels = np.argmax(predictions, axis = 1)\n",
        "print(classification_report(test_labels, pred_labels))\n",
        "# 0 = bacterial, 1 = healthy, 2 = viral and 3 = covid"
      ]
    },
    {
      "attachments": {},
      "cell_type": "markdown",
      "metadata": {
        "id": "4VwVNnpl-hBq"
      },
      "source": [
        "Saving the final fine tuned pre-trained model."
      ]
    },
    {
      "cell_type": "code",
      "execution_count": null,
      "metadata": {
        "id": "ZVCVZSlV-cGU"
      },
      "outputs": [],
      "source": [
        "test_model.save(gdrive_dir + 'covid-19-chest-x-ray-dataset/final_pre-trained_model.h5')"
      ]
    }
  ],
  "metadata": {
    "accelerator": "GPU",
    "colab": {
      "machine_shape": "hm",
      "provenance": []
    },
    "gpuClass": "standard",
    "kernelspec": {
      "display_name": "Python 3",
      "name": "python3"
    },
    "language_info": {
      "name": "python"
    }
  },
  "nbformat": 4,
  "nbformat_minor": 0
}
